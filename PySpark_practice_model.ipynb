{
  "nbformat": 4,
  "nbformat_minor": 0,
  "metadata": {
    "colab": {
      "provenance": [],
      "mount_file_id": "1K8Ffn8EwGpURtCdYp76vFDFQQShcl2s_",
      "authorship_tag": "ABX9TyNsAraXORY+2u0IGB0FuFyR",
      "include_colab_link": true
    },
    "kernelspec": {
      "name": "python3",
      "display_name": "Python 3"
    },
    "language_info": {
      "name": "python"
    },
    "gpuClass": "standard"
  },
  "cells": [
    {
      "cell_type": "markdown",
      "metadata": {
        "id": "view-in-github",
        "colab_type": "text"
      },
      "source": [
        "<a href=\"https://colab.research.google.com/github/23Aditya/PySpark/blob/main/PySpark_practice_model.ipynb\" target=\"_parent\"><img src=\"https://colab.research.google.com/assets/colab-badge.svg\" alt=\"Open In Colab\"/></a>"
      ]
    },
    {
      "cell_type": "code",
      "source": [
        "!pip install pyspark"
      ],
      "metadata": {
        "id": "yzKqEVoOlovf",
        "colab": {
          "base_uri": "https://localhost:8080/"
        },
        "outputId": "17fe9774-ff1a-4ec1-8573-5f6837ce14a7"
      },
      "execution_count": 2,
      "outputs": [
        {
          "output_type": "stream",
          "name": "stdout",
          "text": [
            "Looking in indexes: https://pypi.org/simple, https://us-python.pkg.dev/colab-wheels/public/simple/\n",
            "Collecting pyspark\n",
            "  Downloading pyspark-3.3.1.tar.gz (281.4 MB)\n",
            "\u001b[2K     \u001b[90m━━━━━━━━━━━━━━━━━━━━━━━━━━━━━━━━━━━━━━━\u001b[0m \u001b[32m281.4/281.4 MB\u001b[0m \u001b[31m5.2 MB/s\u001b[0m eta \u001b[36m0:00:00\u001b[0m\n",
            "\u001b[?25h  Preparing metadata (setup.py) ... \u001b[?25l\u001b[?25hdone\n",
            "Collecting py4j==0.10.9.5\n",
            "  Downloading py4j-0.10.9.5-py2.py3-none-any.whl (199 kB)\n",
            "\u001b[2K     \u001b[90m━━━━━━━━━━━━━━━━━━━━━━━━━━━━━━━━━━━━━━\u001b[0m \u001b[32m199.7/199.7 KB\u001b[0m \u001b[31m16.9 MB/s\u001b[0m eta \u001b[36m0:00:00\u001b[0m\n",
            "\u001b[?25hBuilding wheels for collected packages: pyspark\n",
            "  Building wheel for pyspark (setup.py) ... \u001b[?25l\u001b[?25hdone\n",
            "  Created wheel for pyspark: filename=pyspark-3.3.1-py2.py3-none-any.whl size=281845512 sha256=9d5e7fcab97a4dfc1c62449c5175647cf04475ef6e11a6e3df274ec09dedf064\n",
            "  Stored in directory: /root/.cache/pip/wheels/43/dc/11/ec201cd671da62fa9c5cc77078235e40722170ceba231d7598\n",
            "Successfully built pyspark\n",
            "Installing collected packages: py4j, pyspark\n",
            "Successfully installed py4j-0.10.9.5 pyspark-3.3.1\n"
          ]
        }
      ]
    },
    {
      "cell_type": "code",
      "execution_count": 3,
      "metadata": {
        "id": "OScOSmO0lc2p"
      },
      "outputs": [],
      "source": [
        "import pyspark\n",
        "import pandas as pd"
      ]
    },
    {
      "cell_type": "code",
      "source": [
        "df = pd.read_csv(\"/content/drive/MyDrive/Final_pocket_data.csv\")"
      ],
      "metadata": {
        "id": "TTatXlWbldiY"
      },
      "execution_count": 4,
      "outputs": []
    },
    {
      "cell_type": "code",
      "source": [
        "df.head()"
      ],
      "metadata": {
        "colab": {
          "base_uri": "https://localhost:8080/",
          "height": 206
        },
        "id": "1bpMCOS3l1of",
        "outputId": "45b1a574-abb1-4b97-84e4-b3e0ea14e319"
      },
      "execution_count": 6,
      "outputs": [
        {
          "output_type": "execute_result",
          "data": {
            "text/plain": [
              "   Unnamed: 0               New_BU_after_RE_org Facility_International_Region  \\\n",
              "0           0  Cloud and Cybersecurity Services                         India   \n",
              "1           1  Cloud and Cybersecurity Services                         India   \n",
              "2           2  Cloud and Cybersecurity Services                         India   \n",
              "3           3  Cloud and Cybersecurity Services                         India   \n",
              "4           4  Cloud and Cybersecurity Services                         India   \n",
              "\n",
              "  Job_Level        DATE  Attrition  \n",
              "0        JM  2015-03-01   0.000000  \n",
              "1        JM  2015-04-01   0.004425  \n",
              "2        JM  2015-05-01   0.002179  \n",
              "3        JM  2015-06-01   0.001992  \n",
              "4        JM  2015-07-01   0.000000  "
            ],
            "text/html": [
              "\n",
              "  <div id=\"df-08aa8d07-c27f-4d1f-babb-933e00fce12c\">\n",
              "    <div class=\"colab-df-container\">\n",
              "      <div>\n",
              "<style scoped>\n",
              "    .dataframe tbody tr th:only-of-type {\n",
              "        vertical-align: middle;\n",
              "    }\n",
              "\n",
              "    .dataframe tbody tr th {\n",
              "        vertical-align: top;\n",
              "    }\n",
              "\n",
              "    .dataframe thead th {\n",
              "        text-align: right;\n",
              "    }\n",
              "</style>\n",
              "<table border=\"1\" class=\"dataframe\">\n",
              "  <thead>\n",
              "    <tr style=\"text-align: right;\">\n",
              "      <th></th>\n",
              "      <th>Unnamed: 0</th>\n",
              "      <th>New_BU_after_RE_org</th>\n",
              "      <th>Facility_International_Region</th>\n",
              "      <th>Job_Level</th>\n",
              "      <th>DATE</th>\n",
              "      <th>Attrition</th>\n",
              "    </tr>\n",
              "  </thead>\n",
              "  <tbody>\n",
              "    <tr>\n",
              "      <th>0</th>\n",
              "      <td>0</td>\n",
              "      <td>Cloud and Cybersecurity Services</td>\n",
              "      <td>India</td>\n",
              "      <td>JM</td>\n",
              "      <td>2015-03-01</td>\n",
              "      <td>0.000000</td>\n",
              "    </tr>\n",
              "    <tr>\n",
              "      <th>1</th>\n",
              "      <td>1</td>\n",
              "      <td>Cloud and Cybersecurity Services</td>\n",
              "      <td>India</td>\n",
              "      <td>JM</td>\n",
              "      <td>2015-04-01</td>\n",
              "      <td>0.004425</td>\n",
              "    </tr>\n",
              "    <tr>\n",
              "      <th>2</th>\n",
              "      <td>2</td>\n",
              "      <td>Cloud and Cybersecurity Services</td>\n",
              "      <td>India</td>\n",
              "      <td>JM</td>\n",
              "      <td>2015-05-01</td>\n",
              "      <td>0.002179</td>\n",
              "    </tr>\n",
              "    <tr>\n",
              "      <th>3</th>\n",
              "      <td>3</td>\n",
              "      <td>Cloud and Cybersecurity Services</td>\n",
              "      <td>India</td>\n",
              "      <td>JM</td>\n",
              "      <td>2015-06-01</td>\n",
              "      <td>0.001992</td>\n",
              "    </tr>\n",
              "    <tr>\n",
              "      <th>4</th>\n",
              "      <td>4</td>\n",
              "      <td>Cloud and Cybersecurity Services</td>\n",
              "      <td>India</td>\n",
              "      <td>JM</td>\n",
              "      <td>2015-07-01</td>\n",
              "      <td>0.000000</td>\n",
              "    </tr>\n",
              "  </tbody>\n",
              "</table>\n",
              "</div>\n",
              "      <button class=\"colab-df-convert\" onclick=\"convertToInteractive('df-08aa8d07-c27f-4d1f-babb-933e00fce12c')\"\n",
              "              title=\"Convert this dataframe to an interactive table.\"\n",
              "              style=\"display:none;\">\n",
              "        \n",
              "  <svg xmlns=\"http://www.w3.org/2000/svg\" height=\"24px\"viewBox=\"0 0 24 24\"\n",
              "       width=\"24px\">\n",
              "    <path d=\"M0 0h24v24H0V0z\" fill=\"none\"/>\n",
              "    <path d=\"M18.56 5.44l.94 2.06.94-2.06 2.06-.94-2.06-.94-.94-2.06-.94 2.06-2.06.94zm-11 1L8.5 8.5l.94-2.06 2.06-.94-2.06-.94L8.5 2.5l-.94 2.06-2.06.94zm10 10l.94 2.06.94-2.06 2.06-.94-2.06-.94-.94-2.06-.94 2.06-2.06.94z\"/><path d=\"M17.41 7.96l-1.37-1.37c-.4-.4-.92-.59-1.43-.59-.52 0-1.04.2-1.43.59L10.3 9.45l-7.72 7.72c-.78.78-.78 2.05 0 2.83L4 21.41c.39.39.9.59 1.41.59.51 0 1.02-.2 1.41-.59l7.78-7.78 2.81-2.81c.8-.78.8-2.07 0-2.86zM5.41 20L4 18.59l7.72-7.72 1.47 1.35L5.41 20z\"/>\n",
              "  </svg>\n",
              "      </button>\n",
              "      \n",
              "  <style>\n",
              "    .colab-df-container {\n",
              "      display:flex;\n",
              "      flex-wrap:wrap;\n",
              "      gap: 12px;\n",
              "    }\n",
              "\n",
              "    .colab-df-convert {\n",
              "      background-color: #E8F0FE;\n",
              "      border: none;\n",
              "      border-radius: 50%;\n",
              "      cursor: pointer;\n",
              "      display: none;\n",
              "      fill: #1967D2;\n",
              "      height: 32px;\n",
              "      padding: 0 0 0 0;\n",
              "      width: 32px;\n",
              "    }\n",
              "\n",
              "    .colab-df-convert:hover {\n",
              "      background-color: #E2EBFA;\n",
              "      box-shadow: 0px 1px 2px rgba(60, 64, 67, 0.3), 0px 1px 3px 1px rgba(60, 64, 67, 0.15);\n",
              "      fill: #174EA6;\n",
              "    }\n",
              "\n",
              "    [theme=dark] .colab-df-convert {\n",
              "      background-color: #3B4455;\n",
              "      fill: #D2E3FC;\n",
              "    }\n",
              "\n",
              "    [theme=dark] .colab-df-convert:hover {\n",
              "      background-color: #434B5C;\n",
              "      box-shadow: 0px 1px 3px 1px rgba(0, 0, 0, 0.15);\n",
              "      filter: drop-shadow(0px 1px 2px rgba(0, 0, 0, 0.3));\n",
              "      fill: #FFFFFF;\n",
              "    }\n",
              "  </style>\n",
              "\n",
              "      <script>\n",
              "        const buttonEl =\n",
              "          document.querySelector('#df-08aa8d07-c27f-4d1f-babb-933e00fce12c button.colab-df-convert');\n",
              "        buttonEl.style.display =\n",
              "          google.colab.kernel.accessAllowed ? 'block' : 'none';\n",
              "\n",
              "        async function convertToInteractive(key) {\n",
              "          const element = document.querySelector('#df-08aa8d07-c27f-4d1f-babb-933e00fce12c');\n",
              "          const dataTable =\n",
              "            await google.colab.kernel.invokeFunction('convertToInteractive',\n",
              "                                                     [key], {});\n",
              "          if (!dataTable) return;\n",
              "\n",
              "          const docLinkHtml = 'Like what you see? Visit the ' +\n",
              "            '<a target=\"_blank\" href=https://colab.research.google.com/notebooks/data_table.ipynb>data table notebook</a>'\n",
              "            + ' to learn more about interactive tables.';\n",
              "          element.innerHTML = '';\n",
              "          dataTable['output_type'] = 'display_data';\n",
              "          await google.colab.output.renderOutput(dataTable, element);\n",
              "          const docLink = document.createElement('div');\n",
              "          docLink.innerHTML = docLinkHtml;\n",
              "          element.appendChild(docLink);\n",
              "        }\n",
              "      </script>\n",
              "    </div>\n",
              "  </div>\n",
              "  "
            ]
          },
          "metadata": {},
          "execution_count": 6
        }
      ]
    },
    {
      "cell_type": "code",
      "source": [
        "type(df)"
      ],
      "metadata": {
        "colab": {
          "base_uri": "https://localhost:8080/"
        },
        "id": "iPmtShpy5_8V",
        "outputId": "69c0f5b9-51e1-4491-ff12-0dcbec7aeea8"
      },
      "execution_count": 7,
      "outputs": [
        {
          "output_type": "execute_result",
          "data": {
            "text/plain": [
              "pandas.core.frame.DataFrame"
            ]
          },
          "metadata": {},
          "execution_count": 7
        }
      ]
    },
    {
      "cell_type": "code",
      "source": [
        "# While working with spark we have to first creat a SparkSession...\n",
        "from pyspark.sql import SparkSession"
      ],
      "metadata": {
        "id": "uGQtHKiol2hh"
      },
      "execution_count": 8,
      "outputs": []
    },
    {
      "cell_type": "code",
      "source": [
        "spark=(SparkSession.builder.appName('Dataframes').getOrCreate())"
      ],
      "metadata": {
        "id": "VAlxbEIgl6iX"
      },
      "execution_count": 9,
      "outputs": []
    },
    {
      "cell_type": "code",
      "source": [
        "spark"
      ],
      "metadata": {
        "colab": {
          "base_uri": "https://localhost:8080/",
          "height": 219
        },
        "id": "L7qdKuuqmP-m",
        "outputId": "c35daa07-8590-405f-a821-d29411b1a1ec"
      },
      "execution_count": 10,
      "outputs": [
        {
          "output_type": "execute_result",
          "data": {
            "text/plain": [
              "<pyspark.sql.session.SparkSession at 0x7f23f0678040>"
            ],
            "text/html": [
              "\n",
              "            <div>\n",
              "                <p><b>SparkSession - in-memory</b></p>\n",
              "                \n",
              "        <div>\n",
              "            <p><b>SparkContext</b></p>\n",
              "\n",
              "            <p><a href=\"http://978a1fe41405:4040\">Spark UI</a></p>\n",
              "\n",
              "            <dl>\n",
              "              <dt>Version</dt>\n",
              "                <dd><code>v3.3.1</code></dd>\n",
              "              <dt>Master</dt>\n",
              "                <dd><code>local[*]</code></dd>\n",
              "              <dt>AppName</dt>\n",
              "                <dd><code>Dataframes</code></dd>\n",
              "            </dl>\n",
              "        </div>\n",
              "        \n",
              "            </div>\n",
              "        "
            ]
          },
          "metadata": {},
          "execution_count": 10
        }
      ]
    },
    {
      "cell_type": "code",
      "source": [
        "df = spark.read.csv(\"/content/drive/MyDrive/Final_pocket_data.csv\",header = True,inferSchema= True)"
      ],
      "metadata": {
        "id": "YZz4gvMBmRYD"
      },
      "execution_count": 18,
      "outputs": []
    },
    {
      "cell_type": "code",
      "source": [
        "df"
      ],
      "metadata": {
        "colab": {
          "base_uri": "https://localhost:8080/"
        },
        "id": "q4cbE9--iwnu",
        "outputId": "840929b9-2759-4556-c8e6-1efdc9863b69"
      },
      "execution_count": 19,
      "outputs": [
        {
          "output_type": "execute_result",
          "data": {
            "text/plain": [
              "DataFrame[_c0: int, New_BU_after_RE_org: string, Facility_International_Region: string, Job_Level: string, DATE: timestamp, Attrition: double]"
            ]
          },
          "metadata": {},
          "execution_count": 19
        }
      ]
    },
    {
      "cell_type": "code",
      "source": [
        "df.show(5)"
      ],
      "metadata": {
        "colab": {
          "base_uri": "https://localhost:8080/"
        },
        "id": "8iioXYShmfse",
        "outputId": "9d007b82-9179-498f-e19c-babd092a5da1"
      },
      "execution_count": 20,
      "outputs": [
        {
          "output_type": "stream",
          "name": "stdout",
          "text": [
            "+---+--------------------+-----------------------------+---------+-------------------+--------------------+\n",
            "|_c0| New_BU_after_RE_org|Facility_International_Region|Job_Level|               DATE|           Attrition|\n",
            "+---+--------------------+-----------------------------+---------+-------------------+--------------------+\n",
            "|  0|Cloud and Cyberse...|                        India|       JM|2015-03-01 00:00:00|                 0.0|\n",
            "|  1|Cloud and Cyberse...|                        India|       JM|2015-04-01 00:00:00|0.004424778761061947|\n",
            "|  2|Cloud and Cyberse...|                        India|       JM|2015-05-01 00:00:00|0.002178649237472767|\n",
            "|  3|Cloud and Cyberse...|                        India|       JM|2015-06-01 00:00:00| 0.00199203187250996|\n",
            "|  4|Cloud and Cyberse...|                        India|       JM|2015-07-01 00:00:00|                 0.0|\n",
            "+---+--------------------+-----------------------------+---------+-------------------+--------------------+\n",
            "only showing top 5 rows\n",
            "\n"
          ]
        }
      ]
    },
    {
      "cell_type": "code",
      "source": [
        "df.printSchema()"
      ],
      "metadata": {
        "colab": {
          "base_uri": "https://localhost:8080/"
        },
        "id": "8jQzPu4wjf8x",
        "outputId": "ba937e01-9be3-4928-89dc-de16dce555bb"
      },
      "execution_count": 21,
      "outputs": [
        {
          "output_type": "stream",
          "name": "stdout",
          "text": [
            "root\n",
            " |-- _c0: integer (nullable = true)\n",
            " |-- New_BU_after_RE_org: string (nullable = true)\n",
            " |-- Facility_International_Region: string (nullable = true)\n",
            " |-- Job_Level: string (nullable = true)\n",
            " |-- DATE: timestamp (nullable = true)\n",
            " |-- Attrition: double (nullable = true)\n",
            "\n"
          ]
        }
      ]
    },
    {
      "cell_type": "code",
      "source": [
        "from pyspark.sql.functions import col"
      ],
      "metadata": {
        "id": "kufGAz8tvfwC"
      },
      "execution_count": 15,
      "outputs": []
    },
    {
      "cell_type": "code",
      "source": [
        "text_column = df.select(df['New_BU_after_RE_org'],df['DATE'], df['Attrition'])"
      ],
      "metadata": {
        "id": "aHC_yX4IAjZZ"
      },
      "execution_count": 16,
      "outputs": []
    },
    {
      "cell_type": "code",
      "source": [
        "text_column.show(5)"
      ],
      "metadata": {
        "colab": {
          "base_uri": "https://localhost:8080/"
        },
        "id": "CFvrLfW-BOT8",
        "outputId": "500d184d-517c-4b0c-eb53-68f14ea86541"
      },
      "execution_count": 17,
      "outputs": [
        {
          "output_type": "stream",
          "name": "stdout",
          "text": [
            "+--------------------+----------+--------------------+\n",
            "| New_BU_after_RE_org|      DATE|           Attrition|\n",
            "+--------------------+----------+--------------------+\n",
            "|Cloud and Cyberse...|2015-03-01|                 0.0|\n",
            "|Cloud and Cyberse...|2015-04-01|0.004424778761061947|\n",
            "|Cloud and Cyberse...|2015-05-01|0.002178649237472767|\n",
            "|Cloud and Cyberse...|2015-06-01| 0.00199203187250996|\n",
            "|Cloud and Cyberse...|2015-07-01|                 0.0|\n",
            "+--------------------+----------+--------------------+\n",
            "only showing top 5 rows\n",
            "\n"
          ]
        }
      ]
    },
    {
      "cell_type": "code",
      "source": [
        "# from pyspark.sql.functions import split"
      ],
      "metadata": {
        "id": "r48JVt14yG-P"
      },
      "execution_count": null,
      "outputs": []
    },
    {
      "cell_type": "code",
      "source": [
        "# text_column = df.select(split(col(\"Attrition\"),\" \"))"
      ],
      "metadata": {
        "id": "0jvu2GEpBu9u"
      },
      "execution_count": null,
      "outputs": []
    },
    {
      "cell_type": "code",
      "source": [
        "# text_column.show(truncate=True)"
      ],
      "metadata": {
        "id": "vQSgTd3ShtpO"
      },
      "execution_count": null,
      "outputs": []
    },
    {
      "cell_type": "code",
      "source": [
        "# from pyspark.sql.functions import explode,lower"
      ],
      "metadata": {
        "id": "uE6m2s0EwXdW"
      },
      "execution_count": null,
      "outputs": []
    },
    {
      "cell_type": "code",
      "source": [
        "# text_column = df.select(explode(col(\"DATE\")))"
      ],
      "metadata": {
        "id": "VRIa-cA2yNvu"
      },
      "execution_count": null,
      "outputs": []
    },
    {
      "cell_type": "code",
      "source": [
        "# type(df)"
      ],
      "metadata": {
        "id": "l1IpjCUhAEik"
      },
      "execution_count": null,
      "outputs": []
    },
    {
      "cell_type": "code",
      "source": [
        "# text_column = df.select(lower(col(\"New_BU_after_RE_org\")))"
      ],
      "metadata": {
        "id": "KXr7QUKJykSH"
      },
      "execution_count": null,
      "outputs": []
    },
    {
      "cell_type": "code",
      "source": [
        "# text_column.show()"
      ],
      "metadata": {
        "id": "BdvyLEQwzteP"
      },
      "execution_count": null,
      "outputs": []
    },
    {
      "cell_type": "code",
      "source": [
        "# df = df.groupBy(col(\"Attrition\"))"
      ],
      "metadata": {
        "id": "StrJnhcPzvQm"
      },
      "execution_count": null,
      "outputs": []
    },
    {
      "cell_type": "code",
      "source": [
        "# df"
      ],
      "metadata": {
        "id": "3Z8NZynS5G9B"
      },
      "execution_count": null,
      "outputs": []
    },
    {
      "cell_type": "code",
      "source": [
        "# df = df.count()"
      ],
      "metadata": {
        "id": "rGuB6fD25Hxj"
      },
      "execution_count": null,
      "outputs": []
    },
    {
      "cell_type": "code",
      "source": [
        "# df.show()"
      ],
      "metadata": {
        "id": "vtPYh2gH5fVN"
      },
      "execution_count": null,
      "outputs": []
    },
    {
      "cell_type": "code",
      "source": [
        "df.select(*df.columns[1:6]).show(5)"
      ],
      "metadata": {
        "colab": {
          "base_uri": "https://localhost:8080/"
        },
        "id": "0xZuzyxQ5gLm",
        "outputId": "38920f60-b876-41ae-9555-ba3294140002"
      },
      "execution_count": null,
      "outputs": [
        {
          "output_type": "stream",
          "name": "stdout",
          "text": [
            "+--------------------+-----------------------------+---------+----------+--------------------+\n",
            "| New_BU_after_RE_org|Facility_International_Region|Job_Level|      DATE|           Attrition|\n",
            "+--------------------+-----------------------------+---------+----------+--------------------+\n",
            "|Cloud and Cyberse...|                        India|       JM|2015-03-01|                 0.0|\n",
            "|Cloud and Cyberse...|                        India|       JM|2015-04-01|0.004424778761061947|\n",
            "|Cloud and Cyberse...|                        India|       JM|2015-05-01|0.002178649237472767|\n",
            "|Cloud and Cyberse...|                        India|       JM|2015-06-01| 0.00199203187250996|\n",
            "|Cloud and Cyberse...|                        India|       JM|2015-07-01|                 0.0|\n",
            "+--------------------+-----------------------------+---------+----------+--------------------+\n",
            "only showing top 5 rows\n",
            "\n"
          ]
        }
      ]
    },
    {
      "cell_type": "code",
      "source": [
        "df = df.select(\"New_BU_after_RE_org\",\"Facility_International_Region\",\"DATE\",\"Attrition\")"
      ],
      "metadata": {
        "id": "GZSYtrWvG-F8"
      },
      "execution_count": null,
      "outputs": []
    },
    {
      "cell_type": "code",
      "source": [
        "df.show(5)"
      ],
      "metadata": {
        "id": "t9yHfXYIIldk",
        "colab": {
          "base_uri": "https://localhost:8080/"
        },
        "outputId": "fe01dc44-1852-45e7-e3b7-e47698941ebf"
      },
      "execution_count": null,
      "outputs": [
        {
          "output_type": "stream",
          "name": "stdout",
          "text": [
            "+--------------------+-----------------------------+----------+--------------------+\n",
            "| New_BU_after_RE_org|Facility_International_Region|      DATE|           Attrition|\n",
            "+--------------------+-----------------------------+----------+--------------------+\n",
            "|Cloud and Cyberse...|                        India|2015-03-01|                 0.0|\n",
            "|Cloud and Cyberse...|                        India|2015-04-01|0.004424778761061947|\n",
            "|Cloud and Cyberse...|                        India|2015-05-01|0.002178649237472767|\n",
            "|Cloud and Cyberse...|                        India|2015-06-01| 0.00199203187250996|\n",
            "|Cloud and Cyberse...|                        India|2015-07-01|                 0.0|\n",
            "+--------------------+-----------------------------+----------+--------------------+\n",
            "only showing top 5 rows\n",
            "\n"
          ]
        }
      ]
    },
    {
      "cell_type": "code",
      "source": [
        "import numpy as np"
      ],
      "metadata": {
        "id": "1_L1ylacIsIn"
      },
      "execution_count": null,
      "outputs": []
    },
    {
      "cell_type": "code",
      "source": [
        "chunk = np.array_split(np. array (df. columns), len(df. columns)//1)"
      ],
      "metadata": {
        "id": "0Q0t2m6yJh_-"
      },
      "execution_count": null,
      "outputs": []
    },
    {
      "cell_type": "code",
      "source": [
        "chunk"
      ],
      "metadata": {
        "colab": {
          "base_uri": "https://localhost:8080/"
        },
        "id": "j6rQFlJZJ5Et",
        "outputId": "25feee56-dceb-44eb-e659-40ed5240a621"
      },
      "execution_count": null,
      "outputs": [
        {
          "output_type": "execute_result",
          "data": {
            "text/plain": [
              "[array(['New_BU_after_RE_org'], dtype='<U29'),\n",
              " array(['Facility_International_Region'], dtype='<U29'),\n",
              " array(['DATE'], dtype='<U29'),\n",
              " array(['Attrition'], dtype='<U29')]"
            ]
          },
          "metadata": {},
          "execution_count": 34
        }
      ]
    },
    {
      "cell_type": "code",
      "source": [
        "type(chunk)"
      ],
      "metadata": {
        "colab": {
          "base_uri": "https://localhost:8080/"
        },
        "id": "41QRizocE_nH",
        "outputId": "a811ec68-9b7d-4f40-c696-951dde8ec0ae"
      },
      "execution_count": null,
      "outputs": [
        {
          "output_type": "execute_result",
          "data": {
            "text/plain": [
              "list"
            ]
          },
          "metadata": {},
          "execution_count": 35
        }
      ]
    },
    {
      "cell_type": "code",
      "source": [
        "type(df)"
      ],
      "metadata": {
        "id": "cKznzh0TFt1G",
        "colab": {
          "base_uri": "https://localhost:8080/"
        },
        "outputId": "29d8a8df-7b29-4d02-b152-0dfb6d52ba0b"
      },
      "execution_count": null,
      "outputs": [
        {
          "output_type": "execute_result",
          "data": {
            "text/plain": [
              "pyspark.sql.dataframe.DataFrame"
            ]
          },
          "metadata": {},
          "execution_count": 36
        }
      ]
    },
    {
      "cell_type": "code",
      "source": [
        "for x in chunk:\n",
        "  df.select(*x).show(5)"
      ],
      "metadata": {
        "id": "oB5jDynKJ6By",
        "colab": {
          "base_uri": "https://localhost:8080/"
        },
        "outputId": "bdd984eb-d1fd-4bbd-fd62-1a64ff7c30dc"
      },
      "execution_count": null,
      "outputs": [
        {
          "output_type": "stream",
          "name": "stdout",
          "text": [
            "+--------------------+\n",
            "| New_BU_after_RE_org|\n",
            "+--------------------+\n",
            "|Cloud and Cyberse...|\n",
            "|Cloud and Cyberse...|\n",
            "|Cloud and Cyberse...|\n",
            "|Cloud and Cyberse...|\n",
            "|Cloud and Cyberse...|\n",
            "+--------------------+\n",
            "only showing top 5 rows\n",
            "\n",
            "+-----------------------------+\n",
            "|Facility_International_Region|\n",
            "+-----------------------------+\n",
            "|                        India|\n",
            "|                        India|\n",
            "|                        India|\n",
            "|                        India|\n",
            "|                        India|\n",
            "+-----------------------------+\n",
            "only showing top 5 rows\n",
            "\n",
            "+----------+\n",
            "|      DATE|\n",
            "+----------+\n",
            "|2015-03-01|\n",
            "|2015-04-01|\n",
            "|2015-05-01|\n",
            "|2015-06-01|\n",
            "|2015-07-01|\n",
            "+----------+\n",
            "only showing top 5 rows\n",
            "\n",
            "+--------------------+\n",
            "|           Attrition|\n",
            "+--------------------+\n",
            "|                 0.0|\n",
            "|0.004424778761061947|\n",
            "|0.002178649237472767|\n",
            "| 0.00199203187250996|\n",
            "|                 0.0|\n",
            "+--------------------+\n",
            "only showing top 5 rows\n",
            "\n"
          ]
        }
      ]
    },
    {
      "cell_type": "code",
      "source": [
        "type(df)"
      ],
      "metadata": {
        "colab": {
          "base_uri": "https://localhost:8080/"
        },
        "id": "yzxROc5FElQa",
        "outputId": "4146aefd-1c26-4423-f381-c9e97224991e"
      },
      "execution_count": null,
      "outputs": [
        {
          "output_type": "execute_result",
          "data": {
            "text/plain": [
              "pyspark.sql.dataframe.DataFrame"
            ]
          },
          "metadata": {},
          "execution_count": 38
        }
      ]
    },
    {
      "cell_type": "code",
      "source": [
        "# df.na.drop(how=\"any\",thresh=2).show()  # thresh= 2  if we want to drop the row with 2 nan values \n",
        "# df.na.drop(how=\"any\",subset=['Attrition']).show()  # subset=['Attrition']   we want to drop missing values in Attriation column\n",
        "df.na.fill('Missing Values', [ 'Attrition', 'DATE' ]).show()  # replacing nan values in perticular column with ('Missing Values')\n"
      ],
      "metadata": {
        "colab": {
          "base_uri": "https://localhost:8080/"
        },
        "id": "mqlt1MdSKU1y",
        "outputId": "6dd19868-7dac-438d-97e3-9ae81808b1d4"
      },
      "execution_count": null,
      "outputs": [
        {
          "output_type": "stream",
          "name": "stdout",
          "text": [
            "+--------------------+-----------------------------+----------+--------------------+\n",
            "| New_BU_after_RE_org|Facility_International_Region|      DATE|           Attrition|\n",
            "+--------------------+-----------------------------+----------+--------------------+\n",
            "|Cloud and Cyberse...|                        India|2015-03-01|                 0.0|\n",
            "|Cloud and Cyberse...|                        India|2015-04-01|0.004424778761061947|\n",
            "|Cloud and Cyberse...|                        India|2015-05-01|0.002178649237472767|\n",
            "|Cloud and Cyberse...|                        India|2015-06-01| 0.00199203187250996|\n",
            "|Cloud and Cyberse...|                        India|2015-07-01|                 0.0|\n",
            "|Cloud and Cyberse...|                        India|2015-08-01|0.001897533206831...|\n",
            "|Cloud and Cyberse...|                        India|2015-09-01|0.001858736059479...|\n",
            "|Cloud and Cyberse...|                        India|2015-10-01|0.001824817518248...|\n",
            "|Cloud and Cyberse...|                        India|2015-11-01|0.001805054151624...|\n",
            "|Cloud and Cyberse...|                        India|2015-12-01|0.001785714285714...|\n",
            "|Cloud and Cyberse...|                        India|2016-01-01|                 0.0|\n",
            "|Cloud and Cyberse...|                        India|2016-02-01|0.005338078291814947|\n",
            "|Cloud and Cyberse...|                        India|2016-03-01|0.001760563380281...|\n",
            "|Cloud and Cyberse...|                        India|2016-04-01| 0.01056338028169014|\n",
            "|Cloud and Cyberse...|                        India|2016-05-01|0.001703577512776...|\n",
            "|Cloud and Cyberse...|                        India|2016-06-01|0.004754358161648178|\n",
            "|Cloud and Cyberse...|                        India|2016-07-01|  0.0060790273556231|\n",
            "|Cloud and Cyberse...|                        India|2016-08-01|0.007363770250368188|\n",
            "|Cloud and Cyberse...|                        India|2016-09-01|0.007288629737609329|\n",
            "|Cloud and Cyberse...|                        India|2016-10-01|                 0.0|\n",
            "+--------------------+-----------------------------+----------+--------------------+\n",
            "only showing top 20 rows\n",
            "\n"
          ]
        }
      ]
    },
    {
      "cell_type": "code",
      "source": [
        "# filter is use to filter usefull data\n",
        "df.filter (\"Attrition > 0.0\" ).show()"
      ],
      "metadata": {
        "colab": {
          "base_uri": "https://localhost:8080/"
        },
        "id": "1-Ef-0mLKa6O",
        "outputId": "53082201-6581-4164-f49f-dad14355b8f0"
      },
      "execution_count": null,
      "outputs": [
        {
          "output_type": "stream",
          "name": "stdout",
          "text": [
            "+--------------------+-----------------------------+----------+--------------------+\n",
            "| New_BU_after_RE_org|Facility_International_Region|      DATE|           Attrition|\n",
            "+--------------------+-----------------------------+----------+--------------------+\n",
            "|Cloud and Cyberse...|                        India|2015-04-01|0.004424778761061947|\n",
            "|Cloud and Cyberse...|                        India|2015-05-01|0.002178649237472767|\n",
            "|Cloud and Cyberse...|                        India|2015-06-01| 0.00199203187250996|\n",
            "|Cloud and Cyberse...|                        India|2015-08-01|0.001897533206831...|\n",
            "|Cloud and Cyberse...|                        India|2015-09-01|0.001858736059479...|\n",
            "|Cloud and Cyberse...|                        India|2015-10-01|0.001824817518248...|\n",
            "|Cloud and Cyberse...|                        India|2015-11-01|0.001805054151624...|\n",
            "|Cloud and Cyberse...|                        India|2015-12-01|0.001785714285714...|\n",
            "|Cloud and Cyberse...|                        India|2016-02-01|0.005338078291814947|\n",
            "|Cloud and Cyberse...|                        India|2016-03-01|0.001760563380281...|\n",
            "|Cloud and Cyberse...|                        India|2016-04-01| 0.01056338028169014|\n",
            "|Cloud and Cyberse...|                        India|2016-05-01|0.001703577512776...|\n",
            "|Cloud and Cyberse...|                        India|2016-06-01|0.004754358161648178|\n",
            "|Cloud and Cyberse...|                        India|2016-07-01|  0.0060790273556231|\n",
            "|Cloud and Cyberse...|                        India|2016-08-01|0.007363770250368188|\n",
            "|Cloud and Cyberse...|                        India|2016-09-01|0.007288629737609329|\n",
            "|Cloud and Cyberse...|                        India|2016-11-01|0.005571030640668524|\n",
            "|Cloud and Cyberse...|                        India|2016-12-01|0.008771929824561403|\n",
            "|Cloud and Cyberse...|                        India|2017-01-01| 0.00964630225080386|\n",
            "|Cloud and Cyberse...|                        India|2017-02-01| 0.00946372239747634|\n",
            "+--------------------+-----------------------------+----------+--------------------+\n",
            "only showing top 20 rows\n",
            "\n"
          ]
        }
      ]
    },
    {
      "cell_type": "code",
      "source": [
        "df.printSchema()"
      ],
      "metadata": {
        "colab": {
          "base_uri": "https://localhost:8080/"
        },
        "id": "siWRxAQmVQd0",
        "outputId": "6b303e72-87ab-4896-cc8b-b799aa1ffe8c"
      },
      "execution_count": null,
      "outputs": [
        {
          "output_type": "stream",
          "name": "stdout",
          "text": [
            "root\n",
            " |-- New_BU_after_RE_org: string (nullable = true)\n",
            " |-- Facility_International_Region: string (nullable = true)\n",
            " |-- DATE: string (nullable = true)\n",
            " |-- Attrition: string (nullable = true)\n",
            "\n"
          ]
        }
      ]
    },
    {
      "cell_type": "code",
      "source": [
        "df.columns"
      ],
      "metadata": {
        "colab": {
          "base_uri": "https://localhost:8080/"
        },
        "id": "uieUxPCiF0Qi",
        "outputId": "f6a55100-9950-47b0-8328-e6176097849a"
      },
      "execution_count": null,
      "outputs": [
        {
          "output_type": "execute_result",
          "data": {
            "text/plain": [
              "['New_BU_after_RE_org', 'Facility_International_Region', 'DATE', 'Attrition']"
            ]
          },
          "metadata": {},
          "execution_count": 62
        }
      ]
    },
    {
      "cell_type": "code",
      "source": [
        "from pyspark.ml.feature import VectorAssembler\n",
        "featureassembler= VectorAssembler(inputCols=[ \"DATE\", \"Attrition\"] , outputCol=\"Final Feature \")"
      ],
      "metadata": {
        "id": "Abw8_pXNHK-V"
      },
      "execution_count": null,
      "outputs": []
    },
    {
      "cell_type": "code",
      "source": [
        "# output = featureassembler.transform(df)\n",
        "\n",
        "# output = featureassembler.transform(df)"
      ],
      "metadata": {
        "colab": {
          "base_uri": "https://localhost:8080/",
          "height": 363
        },
        "id": "8haDsxVVH_Ql",
        "outputId": "f3618f20-19dc-451b-ca3d-bbc365b571a1"
      },
      "execution_count": null,
      "outputs": [
        {
          "output_type": "error",
          "ename": "IllegalArgumentException",
          "evalue": "ignored",
          "traceback": [
            "\u001b[0;31m---------------------------------------------------------------------------\u001b[0m",
            "\u001b[0;31mIllegalArgumentException\u001b[0m                  Traceback (most recent call last)",
            "\u001b[0;32m<ipython-input-72-ed5e61b47db3>\u001b[0m in \u001b[0;36m<module>\u001b[0;34m\u001b[0m\n\u001b[1;32m      1\u001b[0m \u001b[0;31m# output = featureassembler.transform(df)\u001b[0m\u001b[0;34m\u001b[0m\u001b[0;34m\u001b[0m\u001b[0;34m\u001b[0m\u001b[0m\n\u001b[1;32m      2\u001b[0m \u001b[0;34m\u001b[0m\u001b[0m\n\u001b[0;32m----> 3\u001b[0;31m \u001b[0moutput\u001b[0m \u001b[0;34m=\u001b[0m \u001b[0mfeatureassembler\u001b[0m\u001b[0;34m.\u001b[0m\u001b[0mtransform\u001b[0m\u001b[0;34m(\u001b[0m\u001b[0mdf\u001b[0m\u001b[0;34m)\u001b[0m\u001b[0;34m\u001b[0m\u001b[0;34m\u001b[0m\u001b[0m\n\u001b[0m",
            "\u001b[0;32m/usr/local/lib/python3.8/dist-packages/pyspark/ml/base.py\u001b[0m in \u001b[0;36mtransform\u001b[0;34m(self, dataset, params)\u001b[0m\n\u001b[1;32m    260\u001b[0m                 \u001b[0;32mreturn\u001b[0m \u001b[0mself\u001b[0m\u001b[0;34m.\u001b[0m\u001b[0mcopy\u001b[0m\u001b[0;34m(\u001b[0m\u001b[0mparams\u001b[0m\u001b[0;34m)\u001b[0m\u001b[0;34m.\u001b[0m\u001b[0m_transform\u001b[0m\u001b[0;34m(\u001b[0m\u001b[0mdataset\u001b[0m\u001b[0;34m)\u001b[0m\u001b[0;34m\u001b[0m\u001b[0;34m\u001b[0m\u001b[0m\n\u001b[1;32m    261\u001b[0m             \u001b[0;32melse\u001b[0m\u001b[0;34m:\u001b[0m\u001b[0;34m\u001b[0m\u001b[0;34m\u001b[0m\u001b[0m\n\u001b[0;32m--> 262\u001b[0;31m                 \u001b[0;32mreturn\u001b[0m \u001b[0mself\u001b[0m\u001b[0;34m.\u001b[0m\u001b[0m_transform\u001b[0m\u001b[0;34m(\u001b[0m\u001b[0mdataset\u001b[0m\u001b[0;34m)\u001b[0m\u001b[0;34m\u001b[0m\u001b[0;34m\u001b[0m\u001b[0m\n\u001b[0m\u001b[1;32m    263\u001b[0m         \u001b[0;32melse\u001b[0m\u001b[0;34m:\u001b[0m\u001b[0;34m\u001b[0m\u001b[0;34m\u001b[0m\u001b[0m\n\u001b[1;32m    264\u001b[0m             \u001b[0;32mraise\u001b[0m \u001b[0mTypeError\u001b[0m\u001b[0;34m(\u001b[0m\u001b[0;34m\"Params must be a param map but got %s.\"\u001b[0m \u001b[0;34m%\u001b[0m \u001b[0mtype\u001b[0m\u001b[0;34m(\u001b[0m\u001b[0mparams\u001b[0m\u001b[0;34m)\u001b[0m\u001b[0;34m)\u001b[0m\u001b[0;34m\u001b[0m\u001b[0;34m\u001b[0m\u001b[0m\n",
            "\u001b[0;32m/usr/local/lib/python3.8/dist-packages/pyspark/ml/wrapper.py\u001b[0m in \u001b[0;36m_transform\u001b[0;34m(self, dataset)\u001b[0m\n\u001b[1;32m    398\u001b[0m \u001b[0;34m\u001b[0m\u001b[0m\n\u001b[1;32m    399\u001b[0m         \u001b[0mself\u001b[0m\u001b[0;34m.\u001b[0m\u001b[0m_transfer_params_to_java\u001b[0m\u001b[0;34m(\u001b[0m\u001b[0;34m)\u001b[0m\u001b[0;34m\u001b[0m\u001b[0;34m\u001b[0m\u001b[0m\n\u001b[0;32m--> 400\u001b[0;31m         \u001b[0;32mreturn\u001b[0m \u001b[0mDataFrame\u001b[0m\u001b[0;34m(\u001b[0m\u001b[0mself\u001b[0m\u001b[0;34m.\u001b[0m\u001b[0m_java_obj\u001b[0m\u001b[0;34m.\u001b[0m\u001b[0mtransform\u001b[0m\u001b[0;34m(\u001b[0m\u001b[0mdataset\u001b[0m\u001b[0;34m.\u001b[0m\u001b[0m_jdf\u001b[0m\u001b[0;34m)\u001b[0m\u001b[0;34m,\u001b[0m \u001b[0mdataset\u001b[0m\u001b[0;34m.\u001b[0m\u001b[0msparkSession\u001b[0m\u001b[0;34m)\u001b[0m\u001b[0;34m\u001b[0m\u001b[0;34m\u001b[0m\u001b[0m\n\u001b[0m\u001b[1;32m    401\u001b[0m \u001b[0;34m\u001b[0m\u001b[0m\n\u001b[1;32m    402\u001b[0m \u001b[0;34m\u001b[0m\u001b[0m\n",
            "\u001b[0;32m/usr/local/lib/python3.8/dist-packages/py4j/java_gateway.py\u001b[0m in \u001b[0;36m__call__\u001b[0;34m(self, *args)\u001b[0m\n\u001b[1;32m   1319\u001b[0m \u001b[0;34m\u001b[0m\u001b[0m\n\u001b[1;32m   1320\u001b[0m         \u001b[0manswer\u001b[0m \u001b[0;34m=\u001b[0m \u001b[0mself\u001b[0m\u001b[0;34m.\u001b[0m\u001b[0mgateway_client\u001b[0m\u001b[0;34m.\u001b[0m\u001b[0msend_command\u001b[0m\u001b[0;34m(\u001b[0m\u001b[0mcommand\u001b[0m\u001b[0;34m)\u001b[0m\u001b[0;34m\u001b[0m\u001b[0;34m\u001b[0m\u001b[0m\n\u001b[0;32m-> 1321\u001b[0;31m         return_value = get_return_value(\n\u001b[0m\u001b[1;32m   1322\u001b[0m             answer, self.gateway_client, self.target_id, self.name)\n\u001b[1;32m   1323\u001b[0m \u001b[0;34m\u001b[0m\u001b[0m\n",
            "\u001b[0;32m/usr/local/lib/python3.8/dist-packages/pyspark/sql/utils.py\u001b[0m in \u001b[0;36mdeco\u001b[0;34m(*a, **kw)\u001b[0m\n\u001b[1;32m    194\u001b[0m                 \u001b[0;31m# Hide where the exception came from that shows a non-Pythonic\u001b[0m\u001b[0;34m\u001b[0m\u001b[0;34m\u001b[0m\u001b[0;34m\u001b[0m\u001b[0m\n\u001b[1;32m    195\u001b[0m                 \u001b[0;31m# JVM exception message.\u001b[0m\u001b[0;34m\u001b[0m\u001b[0;34m\u001b[0m\u001b[0;34m\u001b[0m\u001b[0m\n\u001b[0;32m--> 196\u001b[0;31m                 \u001b[0;32mraise\u001b[0m \u001b[0mconverted\u001b[0m \u001b[0;32mfrom\u001b[0m \u001b[0;32mNone\u001b[0m\u001b[0;34m\u001b[0m\u001b[0;34m\u001b[0m\u001b[0m\n\u001b[0m\u001b[1;32m    197\u001b[0m             \u001b[0;32melse\u001b[0m\u001b[0;34m:\u001b[0m\u001b[0;34m\u001b[0m\u001b[0;34m\u001b[0m\u001b[0m\n\u001b[1;32m    198\u001b[0m                 \u001b[0;32mraise\u001b[0m\u001b[0;34m\u001b[0m\u001b[0;34m\u001b[0m\u001b[0m\n",
            "\u001b[0;31mIllegalArgumentException\u001b[0m: Data type string of column DATE is not supported.\nData type string of column Attrition is not supported."
          ]
        }
      ]
    },
    {
      "cell_type": "code",
      "source": [
        "out"
      ],
      "metadata": {
        "id": "jz2qcPZCIRPv"
      },
      "execution_count": null,
      "outputs": []
    }
  ]
}