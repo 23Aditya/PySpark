{
  "nbformat": 4,
  "nbformat_minor": 0,
  "metadata": {
    "colab": {
      "provenance": [],
      "mount_file_id": "1OVZMU7BVMsbVg6FhNJ04xV58xR1S6QzJ",
      "authorship_tag": "ABX9TyPql3p0mNTjWwdzfQJ7oQu8",
      "include_colab_link": true
    },
    "kernelspec": {
      "name": "python3",
      "display_name": "Python 3"
    },
    "language_info": {
      "name": "python"
    }
  },
  "cells": [
    {
      "cell_type": "markdown",
      "metadata": {
        "id": "view-in-github",
        "colab_type": "text"
      },
      "source": [
        "<a href=\"https://colab.research.google.com/github/23Aditya/PySpark/blob/main/PySpark_Sample.ipynb\" target=\"_parent\"><img src=\"https://colab.research.google.com/assets/colab-badge.svg\" alt=\"Open In Colab\"/></a>"
      ]
    },
    {
      "cell_type": "markdown",
      "source": [
        "# **Predict if a patient is Hepatitis or not based parameter**"
      ],
      "metadata": {
        "id": "_BOtd-gvA21C"
      }
    },
    {
      "cell_type": "markdown",
      "source": [
        "#ML with PySpark\n",
        "### *Classify/Predict"
      ],
      "metadata": {
        "id": "uz3SQrBSAIHF"
      }
    },
    {
      "cell_type": "markdown",
      "source": [
        "# Datasource\n",
        "https://archive.ics.uci.edu/ml/datasets/HCV+data"
      ],
      "metadata": {
        "id": "puKr9iYiAECq"
      }
    },
    {
      "cell_type": "markdown",
      "source": [],
      "metadata": {
        "id": "feUE6Y0cAD_w"
      }
    },
    {
      "cell_type": "code",
      "source": [
        "!pip install pyspark"
      ],
      "metadata": {
        "colab": {
          "base_uri": "https://localhost:8080/"
        },
        "id": "vojZvvRBlrOS",
        "outputId": "f23cd8b9-eefd-4782-c96a-b898f953fe81"
      },
      "execution_count": 60,
      "outputs": [
        {
          "output_type": "stream",
          "name": "stdout",
          "text": [
            "Looking in indexes: https://pypi.org/simple, https://us-python.pkg.dev/colab-wheels/public/simple/\n",
            "Requirement already satisfied: pyspark in /usr/local/lib/python3.8/dist-packages (3.3.1)\n",
            "Requirement already satisfied: py4j==0.10.9.5 in /usr/local/lib/python3.8/dist-packages (from pyspark) (0.10.9.5)\n"
          ]
        }
      ]
    },
    {
      "cell_type": "code",
      "source": [
        "# While working with spark we have to first creat a SparkSession...\n",
        "from pyspark.sql import SparkSession\n",
        "import pandas as pd"
      ],
      "metadata": {
        "id": "D88XYKgHl9-X"
      },
      "execution_count": 61,
      "outputs": []
    },
    {
      "cell_type": "code",
      "source": [
        "# spark=(SparkSession.builder.appName('Dataframes').getOrCreate())\n",
        "spark = SparkSession.builder.appName(\"MLwithSpark\").getOrCreate()"
      ],
      "metadata": {
        "id": "myMP1oIMmKHN"
      },
      "execution_count": 62,
      "outputs": []
    },
    {
      "cell_type": "code",
      "source": [
        "spark"
      ],
      "metadata": {
        "colab": {
          "base_uri": "https://localhost:8080/",
          "height": 219
        },
        "id": "o8lOXA942mb5",
        "outputId": "7eb3839e-4b0a-44a4-cb8d-e610de88dd8a"
      },
      "execution_count": 63,
      "outputs": [
        {
          "output_type": "execute_result",
          "data": {
            "text/plain": [
              "<pyspark.sql.session.SparkSession at 0x7fa1556e94c0>"
            ],
            "text/html": [
              "\n",
              "            <div>\n",
              "                <p><b>SparkSession - in-memory</b></p>\n",
              "                \n",
              "        <div>\n",
              "            <p><b>SparkContext</b></p>\n",
              "\n",
              "            <p><a href=\"http://f88037f83b21:4040\">Spark UI</a></p>\n",
              "\n",
              "            <dl>\n",
              "              <dt>Version</dt>\n",
              "                <dd><code>v3.3.1</code></dd>\n",
              "              <dt>Master</dt>\n",
              "                <dd><code>local[*]</code></dd>\n",
              "              <dt>AppName</dt>\n",
              "                <dd><code>MLwithSpark</code></dd>\n",
              "            </dl>\n",
              "        </div>\n",
              "        \n",
              "            </div>\n",
              "        "
            ]
          },
          "metadata": {},
          "execution_count": 63
        }
      ]
    },
    {
      "cell_type": "markdown",
      "source": [
        "#WorkFlow\n",
        "Data Prep\n",
        "\n",
        "Feature Engineering\n",
        "\n",
        "Build Model\n",
        "\n",
        "Evaluate"
      ],
      "metadata": {
        "id": "Q-N2F0IHmpFp"
      }
    },
    {
      "cell_type": "markdown",
      "source": [
        "# Task\n",
        "### Predict if a patient is Hepatitis or not based parameter\n",
        "### The data set contains laboratory values of blood donors and Hepatitis C patients and demographic values like age"
      ],
      "metadata": {
        "id": "zp-8tfmwmxlb"
      }
    },
    {
      "cell_type": "code",
      "source": [
        "# Load our dataset\n",
        "\n",
        "# Small Data set\n",
        "df = spark.read.csv(\"/content/drive/MyDrive/PySpark/hcvdat0.csv\",header=True,inferSchema=True)\n",
        "# 8.8 Gb data set\n",
        "# df = spark.read.csv(\"/content/drive/MyDrive/PySpark/all-the-news-2-1.csv\",header=True,inferSchema=True)"
      ],
      "metadata": {
        "id": "S-Chbnu2mvJF"
      },
      "execution_count": 4,
      "outputs": []
    },
    {
      "cell_type": "code",
      "source": [
        "# With Pandas \n",
        "# data = pd.read_csv(\"/content/drive/MyDrive/PySpark/all-the-news-2-1.csv\") "
      ],
      "metadata": {
        "id": "d8DNV1VjyLSi"
      },
      "execution_count": 5,
      "outputs": []
    },
    {
      "cell_type": "code",
      "source": [
        "# Preview Dataset\n",
        "df.show()"
      ],
      "metadata": {
        "colab": {
          "base_uri": "https://localhost:8080/"
        },
        "id": "Rmdn_cQdnC19",
        "outputId": "d1bfe6ad-90db-456c-a9fd-5281305ab563"
      },
      "execution_count": 6,
      "outputs": [
        {
          "output_type": "stream",
          "name": "stdout",
          "text": [
            "+---+-------------+---+---+----+----+----+----+----+-----+----+-----+----+----+\n",
            "|_c0|     Category|Age|Sex| ALB| ALP| ALT| AST| BIL|  CHE|CHOL| CREA| GGT|PROT|\n",
            "+---+-------------+---+---+----+----+----+----+----+-----+----+-----+----+----+\n",
            "|  1|0=Blood Donor| 32|  m|38.5|52.5| 7.7|22.1| 7.5| 6.93|3.23|106.0|12.1|  69|\n",
            "|  2|0=Blood Donor| 32|  m|38.5|70.3|  18|24.7| 3.9|11.17| 4.8| 74.0|15.6|76.5|\n",
            "|  3|0=Blood Donor| 32|  m|46.9|74.7|36.2|52.6| 6.1| 8.84| 5.2| 86.0|33.2|79.3|\n",
            "|  4|0=Blood Donor| 32|  m|43.2|  52|30.6|22.6|18.9| 7.33|4.74| 80.0|33.8|75.7|\n",
            "|  5|0=Blood Donor| 32|  m|39.2|74.1|32.6|24.8| 9.6| 9.15|4.32| 76.0|29.9|68.7|\n",
            "|  6|0=Blood Donor| 32|  m|41.6|43.3|18.5|19.7|12.3| 9.92|6.05|111.0|91.0|  74|\n",
            "|  7|0=Blood Donor| 32|  m|46.3|41.3|17.5|17.8| 8.5| 7.01|4.79| 70.0|16.9|74.5|\n",
            "|  8|0=Blood Donor| 32|  m|42.2|41.9|35.8|31.1|16.1| 5.82| 4.6|109.0|21.5|67.1|\n",
            "|  9|0=Blood Donor| 32|  m|50.9|65.5|23.2|21.2| 6.9| 8.69| 4.1| 83.0|13.7|71.3|\n",
            "| 10|0=Blood Donor| 32|  m|42.4|86.3|20.3|20.0|35.2| 5.46|4.45| 81.0|15.9|69.9|\n",
            "| 11|0=Blood Donor| 32|  m|44.3|52.3|21.7|22.4|17.2| 4.15|3.57| 78.0|24.1|75.4|\n",
            "| 12|0=Blood Donor| 33|  m|46.4|68.2|10.3|20.0| 5.7| 7.36| 4.3| 79.0|18.7|68.6|\n",
            "| 13|0=Blood Donor| 33|  m|36.3|78.6|23.6|22.0| 7.0| 8.56|5.38| 78.0|19.4|68.7|\n",
            "| 14|0=Blood Donor| 33|  m|  39|51.7|15.9|24.0| 6.8| 6.46|3.38| 65.0| 7.0|70.4|\n",
            "| 15|0=Blood Donor| 33|  m|38.7|39.8|22.5|23.0| 4.1| 4.63|4.97| 63.0|15.2|71.9|\n",
            "| 16|0=Blood Donor| 33|  m|41.8|  65|33.1|38.0| 6.6| 8.83|4.43| 71.0|24.0|72.7|\n",
            "| 17|0=Blood Donor| 33|  m|40.9|  73|17.2|22.9|10.0| 6.98|5.22| 90.0|14.7|72.4|\n",
            "| 18|0=Blood Donor| 33|  m|45.2|88.3|32.4|31.2|10.1| 9.78|5.51|102.0|48.5|76.5|\n",
            "| 19|0=Blood Donor| 33|  m|36.6|57.1|38.9|40.3|24.9| 9.62| 5.5|112.0|27.6|69.3|\n",
            "| 20|0=Blood Donor| 33|  m|  42|63.1|32.6|34.9|11.2| 7.01|4.05|105.0|19.1|68.1|\n",
            "+---+-------------+---+---+----+----+----+----+----+-----+----+-----+----+----+\n",
            "only showing top 20 rows\n",
            "\n"
          ]
        }
      ]
    },
    {
      "cell_type": "code",
      "source": [
        "# check for columns\n",
        "print(df.columns)"
      ],
      "metadata": {
        "colab": {
          "base_uri": "https://localhost:8080/"
        },
        "id": "au8eM3w9nH46",
        "outputId": "f7cd4e8d-285d-4c5d-bb36-cebfc41cbb5c"
      },
      "execution_count": 7,
      "outputs": [
        {
          "output_type": "stream",
          "name": "stdout",
          "text": [
            "['_c0', 'Category', 'Age', 'Sex', 'ALB', 'ALP', 'ALT', 'AST', 'BIL', 'CHE', 'CHOL', 'CREA', 'GGT', 'PROT']\n"
          ]
        }
      ]
    },
    {
      "cell_type": "code",
      "source": [
        "# Rearrange\n",
        "df = df.select('Age', 'Sex', 'ALB', 'ALP', 'ALT', 'AST', 'BIL', 'CHE', 'CHOL', 'CREA', 'GGT', 'PROT','Category')"
      ],
      "metadata": {
        "id": "o6oBj222nL_s"
      },
      "execution_count": 8,
      "outputs": []
    },
    {
      "cell_type": "code",
      "source": [
        "df.show(5)"
      ],
      "metadata": {
        "colab": {
          "base_uri": "https://localhost:8080/"
        },
        "id": "ruK9zO1gnQiX",
        "outputId": "8f42af17-2a17-4785-9720-125dbe87bf1e"
      },
      "execution_count": 9,
      "outputs": [
        {
          "output_type": "stream",
          "name": "stdout",
          "text": [
            "+---+---+----+----+----+----+----+-----+----+-----+----+----+-------------+\n",
            "|Age|Sex| ALB| ALP| ALT| AST| BIL|  CHE|CHOL| CREA| GGT|PROT|     Category|\n",
            "+---+---+----+----+----+----+----+-----+----+-----+----+----+-------------+\n",
            "| 32|  m|38.5|52.5| 7.7|22.1| 7.5| 6.93|3.23|106.0|12.1|  69|0=Blood Donor|\n",
            "| 32|  m|38.5|70.3|  18|24.7| 3.9|11.17| 4.8| 74.0|15.6|76.5|0=Blood Donor|\n",
            "| 32|  m|46.9|74.7|36.2|52.6| 6.1| 8.84| 5.2| 86.0|33.2|79.3|0=Blood Donor|\n",
            "| 32|  m|43.2|  52|30.6|22.6|18.9| 7.33|4.74| 80.0|33.8|75.7|0=Blood Donor|\n",
            "| 32|  m|39.2|74.1|32.6|24.8| 9.6| 9.15|4.32| 76.0|29.9|68.7|0=Blood Donor|\n",
            "+---+---+----+----+----+----+----+-----+----+-----+----+----+-------------+\n",
            "only showing top 5 rows\n",
            "\n"
          ]
        }
      ]
    },
    {
      "cell_type": "code",
      "source": [
        "# Check for datatypes\n",
        "# Before InferSchema=True\n",
        "df.dtypes"
      ],
      "metadata": {
        "colab": {
          "base_uri": "https://localhost:8080/"
        },
        "id": "Px1uB-xPnRgp",
        "outputId": "a385e2b0-5936-474d-d2c7-a21fa70124c4"
      },
      "execution_count": 10,
      "outputs": [
        {
          "output_type": "execute_result",
          "data": {
            "text/plain": [
              "[('Age', 'int'),\n",
              " ('Sex', 'string'),\n",
              " ('ALB', 'string'),\n",
              " ('ALP', 'string'),\n",
              " ('ALT', 'string'),\n",
              " ('AST', 'double'),\n",
              " ('BIL', 'double'),\n",
              " ('CHE', 'double'),\n",
              " ('CHOL', 'string'),\n",
              " ('CREA', 'double'),\n",
              " ('GGT', 'double'),\n",
              " ('PROT', 'string'),\n",
              " ('Category', 'string')]"
            ]
          },
          "metadata": {},
          "execution_count": 10
        }
      ]
    },
    {
      "cell_type": "code",
      "source": [
        "# Check for the Schema\n",
        "df.printSchema()"
      ],
      "metadata": {
        "colab": {
          "base_uri": "https://localhost:8080/"
        },
        "id": "IMcW4pw6neMM",
        "outputId": "f3b048a6-c33c-4896-e7cd-933ff3645ff7"
      },
      "execution_count": 11,
      "outputs": [
        {
          "output_type": "stream",
          "name": "stdout",
          "text": [
            "root\n",
            " |-- Age: integer (nullable = true)\n",
            " |-- Sex: string (nullable = true)\n",
            " |-- ALB: string (nullable = true)\n",
            " |-- ALP: string (nullable = true)\n",
            " |-- ALT: string (nullable = true)\n",
            " |-- AST: double (nullable = true)\n",
            " |-- BIL: double (nullable = true)\n",
            " |-- CHE: double (nullable = true)\n",
            " |-- CHOL: string (nullable = true)\n",
            " |-- CREA: double (nullable = true)\n",
            " |-- GGT: double (nullable = true)\n",
            " |-- PROT: string (nullable = true)\n",
            " |-- Category: string (nullable = true)\n",
            "\n"
          ]
        }
      ]
    },
    {
      "cell_type": "code",
      "source": [
        "df.describe().show()"
      ],
      "metadata": {
        "colab": {
          "base_uri": "https://localhost:8080/"
        },
        "id": "nRbeu0aKniTC",
        "outputId": "b1c3ab64-1bdf-413c-e1e2-e5d3ed566c66"
      },
      "execution_count": 12,
      "outputs": [
        {
          "output_type": "stream",
          "name": "stdout",
          "text": [
            "+-------+------------------+----+-----------------+------------------+------------------+-----------------+------------------+------------------+------------------+-----------------+-----------------+-----------------+-------------+\n",
            "|summary|               Age| Sex|              ALB|               ALP|               ALT|              AST|               BIL|               CHE|              CHOL|             CREA|              GGT|             PROT|     Category|\n",
            "+-------+------------------+----+-----------------+------------------+------------------+-----------------+------------------+------------------+------------------+-----------------+-----------------+-----------------+-------------+\n",
            "|  count|               615| 615|              615|               615|               615|              615|               615|               615|               615|              615|              615|              615|          615|\n",
            "|   mean| 47.40813008130081|null|41.62019543973941| 68.28391959798999| 28.45081433224754|34.78634146341462|11.396747967479675| 8.196634146341458| 5.368099173553719|81.28780487804877|39.53317073170732|72.04413680781768|         null|\n",
            "| stddev|10.055105445519239|null|5.780629404103076|26.028315300123676|25.469688813870942|33.09069033855156|19.673149805846588|2.2056572704292927|1.1327284311597354|49.75616601234976|54.66107123891245|5.402635737104955|         null|\n",
            "|    min|                19|   f|             14.9|             100.4|               0.9|             10.6|               0.8|              1.42|              1.43|              8.0|              4.5|             44.8|0=Blood Donor|\n",
            "|    max|                77|   m|               NA|                NA|                NA|            324.0|             254.0|             16.41|                NA|           1079.1|            650.9|               NA|  3=Cirrhosis|\n",
            "+-------+------------------+----+-----------------+------------------+------------------+-----------------+------------------+------------------+------------------+-----------------+-----------------+-----------------+-------------+\n",
            "\n"
          ]
        }
      ]
    },
    {
      "cell_type": "code",
      "source": [
        "# Value Count \n",
        "df.groupBy('Category').count().show()"
      ],
      "metadata": {
        "colab": {
          "base_uri": "https://localhost:8080/"
        },
        "id": "wB_GgiurnpMk",
        "outputId": "52379f49-0765-434c-98b3-d84a685cde2f"
      },
      "execution_count": 13,
      "outputs": [
        {
          "output_type": "stream",
          "name": "stdout",
          "text": [
            "+--------------------+-----+\n",
            "|            Category|count|\n",
            "+--------------------+-----+\n",
            "|       0=Blood Donor|  533|\n",
            "|         3=Cirrhosis|   30|\n",
            "|          2=Fibrosis|   21|\n",
            "|0s=suspect Blood ...|    7|\n",
            "|         1=Hepatitis|   24|\n",
            "+--------------------+-----+\n",
            "\n"
          ]
        }
      ]
    },
    {
      "cell_type": "code",
      "source": [
        "import pyspark.ml"
      ],
      "metadata": {
        "id": "nJ0nJBN7n4oy"
      },
      "execution_count": 14,
      "outputs": []
    },
    {
      "cell_type": "code",
      "source": [
        "dir(pyspark.ml)"
      ],
      "metadata": {
        "colab": {
          "base_uri": "https://localhost:8080/"
        },
        "id": "yOXXDvSZn84x",
        "outputId": "114388db-e44b-4bd5-93e7-c04a99aa2daf"
      },
      "execution_count": 15,
      "outputs": [
        {
          "output_type": "execute_result",
          "data": {
            "text/plain": [
              "['Estimator',\n",
              " 'Model',\n",
              " 'Pipeline',\n",
              " 'PipelineModel',\n",
              " 'PredictionModel',\n",
              " 'Predictor',\n",
              " 'Transformer',\n",
              " 'UnaryTransformer',\n",
              " '__all__',\n",
              " '__builtins__',\n",
              " '__cached__',\n",
              " '__doc__',\n",
              " '__file__',\n",
              " '__loader__',\n",
              " '__name__',\n",
              " '__package__',\n",
              " '__path__',\n",
              " '__spec__',\n",
              " 'base',\n",
              " 'classification',\n",
              " 'clustering',\n",
              " 'common',\n",
              " 'evaluation',\n",
              " 'feature',\n",
              " 'fpm',\n",
              " 'image',\n",
              " 'linalg',\n",
              " 'param',\n",
              " 'pipeline',\n",
              " 'recommendation',\n",
              " 'regression',\n",
              " 'stat',\n",
              " 'tree',\n",
              " 'tuning',\n",
              " 'util',\n",
              " 'wrapper']"
            ]
          },
          "metadata": {},
          "execution_count": 15
        }
      ]
    },
    {
      "cell_type": "code",
      "source": [
        "# Load ML Pkgs\n",
        "from pyspark.ml.feature import VectorAssembler,StringIndexer"
      ],
      "metadata": {
        "id": "NWtj9okFn_8u"
      },
      "execution_count": 16,
      "outputs": []
    },
    {
      "cell_type": "code",
      "source": [
        "df.show(4)"
      ],
      "metadata": {
        "colab": {
          "base_uri": "https://localhost:8080/"
        },
        "id": "H1YqCT07oFw2",
        "outputId": "418cdfc9-f5ae-4bac-f93e-9672a7e34c51"
      },
      "execution_count": 17,
      "outputs": [
        {
          "output_type": "stream",
          "name": "stdout",
          "text": [
            "+---+---+----+----+----+----+----+-----+----+-----+----+----+-------------+\n",
            "|Age|Sex| ALB| ALP| ALT| AST| BIL|  CHE|CHOL| CREA| GGT|PROT|     Category|\n",
            "+---+---+----+----+----+----+----+-----+----+-----+----+----+-------------+\n",
            "| 32|  m|38.5|52.5| 7.7|22.1| 7.5| 6.93|3.23|106.0|12.1|  69|0=Blood Donor|\n",
            "| 32|  m|38.5|70.3|  18|24.7| 3.9|11.17| 4.8| 74.0|15.6|76.5|0=Blood Donor|\n",
            "| 32|  m|46.9|74.7|36.2|52.6| 6.1| 8.84| 5.2| 86.0|33.2|79.3|0=Blood Donor|\n",
            "| 32|  m|43.2|  52|30.6|22.6|18.9| 7.33|4.74| 80.0|33.8|75.7|0=Blood Donor|\n",
            "+---+---+----+----+----+----+----+-----+----+-----+----+----+-------------+\n",
            "only showing top 4 rows\n",
            "\n"
          ]
        }
      ]
    },
    {
      "cell_type": "code",
      "source": [
        "# Unique Values for Sex\n",
        "df.select('Sex').distinct().show()"
      ],
      "metadata": {
        "colab": {
          "base_uri": "https://localhost:8080/"
        },
        "id": "HKpTjd89oJ_K",
        "outputId": "9ccd90e6-9deb-4620-c2f7-48b3b87ba950"
      },
      "execution_count": 18,
      "outputs": [
        {
          "output_type": "stream",
          "name": "stdout",
          "text": [
            "+---+\n",
            "|Sex|\n",
            "+---+\n",
            "|  m|\n",
            "|  f|\n",
            "+---+\n",
            "\n"
          ]
        }
      ]
    },
    {
      "cell_type": "code",
      "source": [
        "# Convert the string into numerical code\n",
        "# label encoding\n",
        "genderEncoder = StringIndexer(inputCol='Sex',outputCol='Gender').fit(df)"
      ],
      "metadata": {
        "id": "4kwCiyjkoKTh"
      },
      "execution_count": 19,
      "outputs": []
    },
    {
      "cell_type": "code",
      "source": [
        "df = genderEncoder.transform(df)"
      ],
      "metadata": {
        "id": "TAIKNjIboMLJ"
      },
      "execution_count": 20,
      "outputs": []
    },
    {
      "cell_type": "code",
      "source": [
        "df.show(5)"
      ],
      "metadata": {
        "colab": {
          "base_uri": "https://localhost:8080/"
        },
        "id": "TjTTgQqkoOKl",
        "outputId": "8e562b70-9995-453c-f23c-4c3d08ec2bc7"
      },
      "execution_count": 21,
      "outputs": [
        {
          "output_type": "stream",
          "name": "stdout",
          "text": [
            "+---+---+----+----+----+----+----+-----+----+-----+----+----+-------------+------+\n",
            "|Age|Sex| ALB| ALP| ALT| AST| BIL|  CHE|CHOL| CREA| GGT|PROT|     Category|Gender|\n",
            "+---+---+----+----+----+----+----+-----+----+-----+----+----+-------------+------+\n",
            "| 32|  m|38.5|52.5| 7.7|22.1| 7.5| 6.93|3.23|106.0|12.1|  69|0=Blood Donor|   0.0|\n",
            "| 32|  m|38.5|70.3|  18|24.7| 3.9|11.17| 4.8| 74.0|15.6|76.5|0=Blood Donor|   0.0|\n",
            "| 32|  m|46.9|74.7|36.2|52.6| 6.1| 8.84| 5.2| 86.0|33.2|79.3|0=Blood Donor|   0.0|\n",
            "| 32|  m|43.2|  52|30.6|22.6|18.9| 7.33|4.74| 80.0|33.8|75.7|0=Blood Donor|   0.0|\n",
            "| 32|  m|39.2|74.1|32.6|24.8| 9.6| 9.15|4.32| 76.0|29.9|68.7|0=Blood Donor|   0.0|\n",
            "+---+---+----+----+----+----+----+-----+----+-----+----+----+-------------+------+\n",
            "only showing top 5 rows\n",
            "\n"
          ]
        }
      ]
    },
    {
      "cell_type": "code",
      "source": [
        "# Encoding for Category\n",
        "# Label Encoding\n",
        "catEncoder = StringIndexer(inputCol='Category',outputCol='Target').fit(df)\n",
        "df = catEncoder.transform(df)"
      ],
      "metadata": {
        "id": "_eAbJnVGoQEU"
      },
      "execution_count": 22,
      "outputs": []
    },
    {
      "cell_type": "code",
      "source": [
        "df.show(5)"
      ],
      "metadata": {
        "colab": {
          "base_uri": "https://localhost:8080/"
        },
        "id": "EJFCkzlSoRwp",
        "outputId": "02b51a4c-7b88-410e-ba92-24f564735aba"
      },
      "execution_count": 23,
      "outputs": [
        {
          "output_type": "stream",
          "name": "stdout",
          "text": [
            "+---+---+----+----+----+----+----+-----+----+-----+----+----+-------------+------+------+\n",
            "|Age|Sex| ALB| ALP| ALT| AST| BIL|  CHE|CHOL| CREA| GGT|PROT|     Category|Gender|Target|\n",
            "+---+---+----+----+----+----+----+-----+----+-----+----+----+-------------+------+------+\n",
            "| 32|  m|38.5|52.5| 7.7|22.1| 7.5| 6.93|3.23|106.0|12.1|  69|0=Blood Donor|   0.0|   0.0|\n",
            "| 32|  m|38.5|70.3|  18|24.7| 3.9|11.17| 4.8| 74.0|15.6|76.5|0=Blood Donor|   0.0|   0.0|\n",
            "| 32|  m|46.9|74.7|36.2|52.6| 6.1| 8.84| 5.2| 86.0|33.2|79.3|0=Blood Donor|   0.0|   0.0|\n",
            "| 32|  m|43.2|  52|30.6|22.6|18.9| 7.33|4.74| 80.0|33.8|75.7|0=Blood Donor|   0.0|   0.0|\n",
            "| 32|  m|39.2|74.1|32.6|24.8| 9.6| 9.15|4.32| 76.0|29.9|68.7|0=Blood Donor|   0.0|   0.0|\n",
            "+---+---+----+----+----+----+----+-----+----+-----+----+----+-------------+------+------+\n",
            "only showing top 5 rows\n",
            "\n"
          ]
        }
      ]
    },
    {
      "cell_type": "code",
      "source": [
        "# Get the labels\n",
        "catEncoder.labels"
      ],
      "metadata": {
        "colab": {
          "base_uri": "https://localhost:8080/"
        },
        "id": "ko0OyO4PoTur",
        "outputId": "f81b6bbc-5f15-41fb-856a-3a55c978e2bc"
      },
      "execution_count": 24,
      "outputs": [
        {
          "output_type": "execute_result",
          "data": {
            "text/plain": [
              "['0=Blood Donor',\n",
              " '3=Cirrhosis',\n",
              " '1=Hepatitis',\n",
              " '2=Fibrosis',\n",
              " '0s=suspect Blood Donor']"
            ]
          },
          "metadata": {},
          "execution_count": 24
        }
      ]
    },
    {
      "cell_type": "code",
      "source": [
        "# IndexToString\n",
        "from pyspark.ml.feature import IndexToString"
      ],
      "metadata": {
        "id": "14rwhY2noVkm"
      },
      "execution_count": 25,
      "outputs": []
    },
    {
      "cell_type": "code",
      "source": [
        "converter = IndexToString(inputCol='Target',outputCol='orig_cat')"
      ],
      "metadata": {
        "id": "JHYJTY54oYSI"
      },
      "execution_count": 26,
      "outputs": []
    },
    {
      "cell_type": "code",
      "source": [
        "converted_df = converter.transform(df)"
      ],
      "metadata": {
        "id": "Fxuvu7HqoZ9I"
      },
      "execution_count": 27,
      "outputs": []
    },
    {
      "cell_type": "code",
      "source": [
        "converted_df.show()"
      ],
      "metadata": {
        "colab": {
          "base_uri": "https://localhost:8080/"
        },
        "id": "EuWJK9kiobMA",
        "outputId": "f749b8b3-2a29-4652-c9ab-b8d8dcc2de3b"
      },
      "execution_count": 28,
      "outputs": [
        {
          "output_type": "stream",
          "name": "stdout",
          "text": [
            "+---+---+----+----+----+----+----+-----+----+-----+----+----+-------------+------+------+-------------+\n",
            "|Age|Sex| ALB| ALP| ALT| AST| BIL|  CHE|CHOL| CREA| GGT|PROT|     Category|Gender|Target|     orig_cat|\n",
            "+---+---+----+----+----+----+----+-----+----+-----+----+----+-------------+------+------+-------------+\n",
            "| 32|  m|38.5|52.5| 7.7|22.1| 7.5| 6.93|3.23|106.0|12.1|  69|0=Blood Donor|   0.0|   0.0|0=Blood Donor|\n",
            "| 32|  m|38.5|70.3|  18|24.7| 3.9|11.17| 4.8| 74.0|15.6|76.5|0=Blood Donor|   0.0|   0.0|0=Blood Donor|\n",
            "| 32|  m|46.9|74.7|36.2|52.6| 6.1| 8.84| 5.2| 86.0|33.2|79.3|0=Blood Donor|   0.0|   0.0|0=Blood Donor|\n",
            "| 32|  m|43.2|  52|30.6|22.6|18.9| 7.33|4.74| 80.0|33.8|75.7|0=Blood Donor|   0.0|   0.0|0=Blood Donor|\n",
            "| 32|  m|39.2|74.1|32.6|24.8| 9.6| 9.15|4.32| 76.0|29.9|68.7|0=Blood Donor|   0.0|   0.0|0=Blood Donor|\n",
            "| 32|  m|41.6|43.3|18.5|19.7|12.3| 9.92|6.05|111.0|91.0|  74|0=Blood Donor|   0.0|   0.0|0=Blood Donor|\n",
            "| 32|  m|46.3|41.3|17.5|17.8| 8.5| 7.01|4.79| 70.0|16.9|74.5|0=Blood Donor|   0.0|   0.0|0=Blood Donor|\n",
            "| 32|  m|42.2|41.9|35.8|31.1|16.1| 5.82| 4.6|109.0|21.5|67.1|0=Blood Donor|   0.0|   0.0|0=Blood Donor|\n",
            "| 32|  m|50.9|65.5|23.2|21.2| 6.9| 8.69| 4.1| 83.0|13.7|71.3|0=Blood Donor|   0.0|   0.0|0=Blood Donor|\n",
            "| 32|  m|42.4|86.3|20.3|20.0|35.2| 5.46|4.45| 81.0|15.9|69.9|0=Blood Donor|   0.0|   0.0|0=Blood Donor|\n",
            "| 32|  m|44.3|52.3|21.7|22.4|17.2| 4.15|3.57| 78.0|24.1|75.4|0=Blood Donor|   0.0|   0.0|0=Blood Donor|\n",
            "| 33|  m|46.4|68.2|10.3|20.0| 5.7| 7.36| 4.3| 79.0|18.7|68.6|0=Blood Donor|   0.0|   0.0|0=Blood Donor|\n",
            "| 33|  m|36.3|78.6|23.6|22.0| 7.0| 8.56|5.38| 78.0|19.4|68.7|0=Blood Donor|   0.0|   0.0|0=Blood Donor|\n",
            "| 33|  m|  39|51.7|15.9|24.0| 6.8| 6.46|3.38| 65.0| 7.0|70.4|0=Blood Donor|   0.0|   0.0|0=Blood Donor|\n",
            "| 33|  m|38.7|39.8|22.5|23.0| 4.1| 4.63|4.97| 63.0|15.2|71.9|0=Blood Donor|   0.0|   0.0|0=Blood Donor|\n",
            "| 33|  m|41.8|  65|33.1|38.0| 6.6| 8.83|4.43| 71.0|24.0|72.7|0=Blood Donor|   0.0|   0.0|0=Blood Donor|\n",
            "| 33|  m|40.9|  73|17.2|22.9|10.0| 6.98|5.22| 90.0|14.7|72.4|0=Blood Donor|   0.0|   0.0|0=Blood Donor|\n",
            "| 33|  m|45.2|88.3|32.4|31.2|10.1| 9.78|5.51|102.0|48.5|76.5|0=Blood Donor|   0.0|   0.0|0=Blood Donor|\n",
            "| 33|  m|36.6|57.1|38.9|40.3|24.9| 9.62| 5.5|112.0|27.6|69.3|0=Blood Donor|   0.0|   0.0|0=Blood Donor|\n",
            "| 33|  m|  42|63.1|32.6|34.9|11.2| 7.01|4.05|105.0|19.1|68.1|0=Blood Donor|   0.0|   0.0|0=Blood Donor|\n",
            "+---+---+----+----+----+----+----+-----+----+-----+----+----+-------------+------+------+-------------+\n",
            "only showing top 20 rows\n",
            "\n"
          ]
        }
      ]
    },
    {
      "cell_type": "code",
      "source": [
        "### Feature \n",
        "df.show()"
      ],
      "metadata": {
        "colab": {
          "base_uri": "https://localhost:8080/"
        },
        "id": "QEHpL9Tyoc4C",
        "outputId": "324138ac-d045-4b33-9e62-303f2f380482"
      },
      "execution_count": 29,
      "outputs": [
        {
          "output_type": "stream",
          "name": "stdout",
          "text": [
            "+---+---+----+----+----+----+----+-----+----+-----+----+----+-------------+------+------+\n",
            "|Age|Sex| ALB| ALP| ALT| AST| BIL|  CHE|CHOL| CREA| GGT|PROT|     Category|Gender|Target|\n",
            "+---+---+----+----+----+----+----+-----+----+-----+----+----+-------------+------+------+\n",
            "| 32|  m|38.5|52.5| 7.7|22.1| 7.5| 6.93|3.23|106.0|12.1|  69|0=Blood Donor|   0.0|   0.0|\n",
            "| 32|  m|38.5|70.3|  18|24.7| 3.9|11.17| 4.8| 74.0|15.6|76.5|0=Blood Donor|   0.0|   0.0|\n",
            "| 32|  m|46.9|74.7|36.2|52.6| 6.1| 8.84| 5.2| 86.0|33.2|79.3|0=Blood Donor|   0.0|   0.0|\n",
            "| 32|  m|43.2|  52|30.6|22.6|18.9| 7.33|4.74| 80.0|33.8|75.7|0=Blood Donor|   0.0|   0.0|\n",
            "| 32|  m|39.2|74.1|32.6|24.8| 9.6| 9.15|4.32| 76.0|29.9|68.7|0=Blood Donor|   0.0|   0.0|\n",
            "| 32|  m|41.6|43.3|18.5|19.7|12.3| 9.92|6.05|111.0|91.0|  74|0=Blood Donor|   0.0|   0.0|\n",
            "| 32|  m|46.3|41.3|17.5|17.8| 8.5| 7.01|4.79| 70.0|16.9|74.5|0=Blood Donor|   0.0|   0.0|\n",
            "| 32|  m|42.2|41.9|35.8|31.1|16.1| 5.82| 4.6|109.0|21.5|67.1|0=Blood Donor|   0.0|   0.0|\n",
            "| 32|  m|50.9|65.5|23.2|21.2| 6.9| 8.69| 4.1| 83.0|13.7|71.3|0=Blood Donor|   0.0|   0.0|\n",
            "| 32|  m|42.4|86.3|20.3|20.0|35.2| 5.46|4.45| 81.0|15.9|69.9|0=Blood Donor|   0.0|   0.0|\n",
            "| 32|  m|44.3|52.3|21.7|22.4|17.2| 4.15|3.57| 78.0|24.1|75.4|0=Blood Donor|   0.0|   0.0|\n",
            "| 33|  m|46.4|68.2|10.3|20.0| 5.7| 7.36| 4.3| 79.0|18.7|68.6|0=Blood Donor|   0.0|   0.0|\n",
            "| 33|  m|36.3|78.6|23.6|22.0| 7.0| 8.56|5.38| 78.0|19.4|68.7|0=Blood Donor|   0.0|   0.0|\n",
            "| 33|  m|  39|51.7|15.9|24.0| 6.8| 6.46|3.38| 65.0| 7.0|70.4|0=Blood Donor|   0.0|   0.0|\n",
            "| 33|  m|38.7|39.8|22.5|23.0| 4.1| 4.63|4.97| 63.0|15.2|71.9|0=Blood Donor|   0.0|   0.0|\n",
            "| 33|  m|41.8|  65|33.1|38.0| 6.6| 8.83|4.43| 71.0|24.0|72.7|0=Blood Donor|   0.0|   0.0|\n",
            "| 33|  m|40.9|  73|17.2|22.9|10.0| 6.98|5.22| 90.0|14.7|72.4|0=Blood Donor|   0.0|   0.0|\n",
            "| 33|  m|45.2|88.3|32.4|31.2|10.1| 9.78|5.51|102.0|48.5|76.5|0=Blood Donor|   0.0|   0.0|\n",
            "| 33|  m|36.6|57.1|38.9|40.3|24.9| 9.62| 5.5|112.0|27.6|69.3|0=Blood Donor|   0.0|   0.0|\n",
            "| 33|  m|  42|63.1|32.6|34.9|11.2| 7.01|4.05|105.0|19.1|68.1|0=Blood Donor|   0.0|   0.0|\n",
            "+---+---+----+----+----+----+----+-----+----+-----+----+----+-------------+------+------+\n",
            "only showing top 20 rows\n",
            "\n"
          ]
        }
      ]
    },
    {
      "cell_type": "code",
      "source": [
        "df2 = df.select('Age','Gender', 'ALB', 'ALP', 'ALT', 'AST', 'BIL', 'CHE', 'CHOL', 'CREA', 'GGT', 'PROT', 'Target')"
      ],
      "metadata": {
        "id": "glL_y8e-ohAE"
      },
      "execution_count": 30,
      "outputs": []
    },
    {
      "cell_type": "code",
      "source": [
        "df2.printSchema()"
      ],
      "metadata": {
        "colab": {
          "base_uri": "https://localhost:8080/"
        },
        "id": "Oko_mojXoyzO",
        "outputId": "990c7af2-3a8c-481a-a27e-c1bc999b1414"
      },
      "execution_count": 31,
      "outputs": [
        {
          "output_type": "stream",
          "name": "stdout",
          "text": [
            "root\n",
            " |-- Age: integer (nullable = true)\n",
            " |-- Gender: double (nullable = false)\n",
            " |-- ALB: string (nullable = true)\n",
            " |-- ALP: string (nullable = true)\n",
            " |-- ALT: string (nullable = true)\n",
            " |-- AST: double (nullable = true)\n",
            " |-- BIL: double (nullable = true)\n",
            " |-- CHE: double (nullable = true)\n",
            " |-- CHOL: string (nullable = true)\n",
            " |-- CREA: double (nullable = true)\n",
            " |-- GGT: double (nullable = true)\n",
            " |-- PROT: string (nullable = true)\n",
            " |-- Target: double (nullable = false)\n",
            "\n"
          ]
        }
      ]
    },
    {
      "cell_type": "code",
      "source": [
        "# Replacing null values with  ' 0 '\n",
        "df2 = df2.toPandas().replace('NA',0).astype(float)"
      ],
      "metadata": {
        "id": "YtEnAZGFo10c"
      },
      "execution_count": 32,
      "outputs": []
    },
    {
      "cell_type": "code",
      "source": [
        "type(df2)"
      ],
      "metadata": {
        "colab": {
          "base_uri": "https://localhost:8080/"
        },
        "id": "TtQAwGo1o7qw",
        "outputId": "36d35292-9454-4416-8390-15ca111b2672"
      },
      "execution_count": 33,
      "outputs": [
        {
          "output_type": "execute_result",
          "data": {
            "text/plain": [
              "pandas.core.frame.DataFrame"
            ]
          },
          "metadata": {},
          "execution_count": 33
        }
      ]
    },
    {
      "cell_type": "code",
      "source": [
        "type(df)"
      ],
      "metadata": {
        "colab": {
          "base_uri": "https://localhost:8080/"
        },
        "id": "fwqVE53BpYWx",
        "outputId": "cc40c70c-46eb-412d-c614-bd5e22dec663"
      },
      "execution_count": 34,
      "outputs": [
        {
          "output_type": "execute_result",
          "data": {
            "text/plain": [
              "pyspark.sql.dataframe.DataFrame"
            ]
          },
          "metadata": {},
          "execution_count": 34
        }
      ]
    },
    {
      "cell_type": "code",
      "source": [
        "# Convert To PySpark Dataframe\n",
        "new_df = spark.createDataFrame(df2)"
      ],
      "metadata": {
        "id": "TIPevY29pa3t"
      },
      "execution_count": 35,
      "outputs": []
    },
    {
      "cell_type": "code",
      "source": [
        "new_df.show()"
      ],
      "metadata": {
        "colab": {
          "base_uri": "https://localhost:8080/"
        },
        "id": "4BO09gsTpe3x",
        "outputId": "107421bd-2644-4d6d-f2b2-8cf37269a23f"
      },
      "execution_count": 36,
      "outputs": [
        {
          "output_type": "stream",
          "name": "stdout",
          "text": [
            "+----+------+----+----+----+----+----+-----+----+-----+----+----+------+\n",
            "| Age|Gender| ALB| ALP| ALT| AST| BIL|  CHE|CHOL| CREA| GGT|PROT|Target|\n",
            "+----+------+----+----+----+----+----+-----+----+-----+----+----+------+\n",
            "|32.0|   0.0|38.5|52.5| 7.7|22.1| 7.5| 6.93|3.23|106.0|12.1|69.0|   0.0|\n",
            "|32.0|   0.0|38.5|70.3|18.0|24.7| 3.9|11.17| 4.8| 74.0|15.6|76.5|   0.0|\n",
            "|32.0|   0.0|46.9|74.7|36.2|52.6| 6.1| 8.84| 5.2| 86.0|33.2|79.3|   0.0|\n",
            "|32.0|   0.0|43.2|52.0|30.6|22.6|18.9| 7.33|4.74| 80.0|33.8|75.7|   0.0|\n",
            "|32.0|   0.0|39.2|74.1|32.6|24.8| 9.6| 9.15|4.32| 76.0|29.9|68.7|   0.0|\n",
            "|32.0|   0.0|41.6|43.3|18.5|19.7|12.3| 9.92|6.05|111.0|91.0|74.0|   0.0|\n",
            "|32.0|   0.0|46.3|41.3|17.5|17.8| 8.5| 7.01|4.79| 70.0|16.9|74.5|   0.0|\n",
            "|32.0|   0.0|42.2|41.9|35.8|31.1|16.1| 5.82| 4.6|109.0|21.5|67.1|   0.0|\n",
            "|32.0|   0.0|50.9|65.5|23.2|21.2| 6.9| 8.69| 4.1| 83.0|13.7|71.3|   0.0|\n",
            "|32.0|   0.0|42.4|86.3|20.3|20.0|35.2| 5.46|4.45| 81.0|15.9|69.9|   0.0|\n",
            "|32.0|   0.0|44.3|52.3|21.7|22.4|17.2| 4.15|3.57| 78.0|24.1|75.4|   0.0|\n",
            "|33.0|   0.0|46.4|68.2|10.3|20.0| 5.7| 7.36| 4.3| 79.0|18.7|68.6|   0.0|\n",
            "|33.0|   0.0|36.3|78.6|23.6|22.0| 7.0| 8.56|5.38| 78.0|19.4|68.7|   0.0|\n",
            "|33.0|   0.0|39.0|51.7|15.9|24.0| 6.8| 6.46|3.38| 65.0| 7.0|70.4|   0.0|\n",
            "|33.0|   0.0|38.7|39.8|22.5|23.0| 4.1| 4.63|4.97| 63.0|15.2|71.9|   0.0|\n",
            "|33.0|   0.0|41.8|65.0|33.1|38.0| 6.6| 8.83|4.43| 71.0|24.0|72.7|   0.0|\n",
            "|33.0|   0.0|40.9|73.0|17.2|22.9|10.0| 6.98|5.22| 90.0|14.7|72.4|   0.0|\n",
            "|33.0|   0.0|45.2|88.3|32.4|31.2|10.1| 9.78|5.51|102.0|48.5|76.5|   0.0|\n",
            "|33.0|   0.0|36.6|57.1|38.9|40.3|24.9| 9.62| 5.5|112.0|27.6|69.3|   0.0|\n",
            "|33.0|   0.0|42.0|63.1|32.6|34.9|11.2| 7.01|4.05|105.0|19.1|68.1|   0.0|\n",
            "+----+------+----+----+----+----+----+-----+----+-----+----+----+------+\n",
            "only showing top 20 rows\n",
            "\n"
          ]
        }
      ]
    },
    {
      "cell_type": "code",
      "source": [
        "# Check For DTYpes and Schema\n",
        "new_df.printSchema()"
      ],
      "metadata": {
        "colab": {
          "base_uri": "https://localhost:8080/"
        },
        "id": "_XoGBOgjpgwZ",
        "outputId": "af8bd545-6d45-4a6c-a536-cecd4cea8825"
      },
      "execution_count": 37,
      "outputs": [
        {
          "output_type": "stream",
          "name": "stdout",
          "text": [
            "root\n",
            " |-- Age: double (nullable = true)\n",
            " |-- Gender: double (nullable = true)\n",
            " |-- ALB: double (nullable = true)\n",
            " |-- ALP: double (nullable = true)\n",
            " |-- ALT: double (nullable = true)\n",
            " |-- AST: double (nullable = true)\n",
            " |-- BIL: double (nullable = true)\n",
            " |-- CHE: double (nullable = true)\n",
            " |-- CHOL: double (nullable = true)\n",
            " |-- CREA: double (nullable = true)\n",
            " |-- GGT: double (nullable = true)\n",
            " |-- PROT: double (nullable = true)\n",
            " |-- Target: double (nullable = true)\n",
            "\n"
          ]
        }
      ]
    },
    {
      "cell_type": "code",
      "source": [
        "required_features = ['Age','Gender', 'ALB', 'ALP', 'ALT', 'AST', 'BIL', 'CHE', 'CHOL', 'CREA', 'GGT', 'PROT', 'Target']"
      ],
      "metadata": {
        "id": "P80B9R6UpkBV"
      },
      "execution_count": 38,
      "outputs": []
    },
    {
      "cell_type": "code",
      "source": [
        "# VectorAsm\n",
        "vec_assembler = VectorAssembler(inputCols=required_features,outputCol='features')"
      ],
      "metadata": {
        "id": "6Gd7mv-Kpmnc"
      },
      "execution_count": 39,
      "outputs": []
    },
    {
      "cell_type": "code",
      "source": [
        "vec_df = vec_assembler.transform(new_df)"
      ],
      "metadata": {
        "id": "oN6o6aHIpoNA"
      },
      "execution_count": 40,
      "outputs": []
    },
    {
      "cell_type": "code",
      "source": [
        "vec_df.show(5)"
      ],
      "metadata": {
        "colab": {
          "base_uri": "https://localhost:8080/"
        },
        "id": "vJJgciMNpplb",
        "outputId": "a5483cc7-7d83-4583-d259-45354547d6b0"
      },
      "execution_count": 41,
      "outputs": [
        {
          "output_type": "stream",
          "name": "stdout",
          "text": [
            "+----+------+----+----+----+----+----+-----+----+-----+----+----+------+--------------------+\n",
            "| Age|Gender| ALB| ALP| ALT| AST| BIL|  CHE|CHOL| CREA| GGT|PROT|Target|            features|\n",
            "+----+------+----+----+----+----+----+-----+----+-----+----+----+------+--------------------+\n",
            "|32.0|   0.0|38.5|52.5| 7.7|22.1| 7.5| 6.93|3.23|106.0|12.1|69.0|   0.0|[32.0,0.0,38.5,52...|\n",
            "|32.0|   0.0|38.5|70.3|18.0|24.7| 3.9|11.17| 4.8| 74.0|15.6|76.5|   0.0|[32.0,0.0,38.5,70...|\n",
            "|32.0|   0.0|46.9|74.7|36.2|52.6| 6.1| 8.84| 5.2| 86.0|33.2|79.3|   0.0|[32.0,0.0,46.9,74...|\n",
            "|32.0|   0.0|43.2|52.0|30.6|22.6|18.9| 7.33|4.74| 80.0|33.8|75.7|   0.0|[32.0,0.0,43.2,52...|\n",
            "|32.0|   0.0|39.2|74.1|32.6|24.8| 9.6| 9.15|4.32| 76.0|29.9|68.7|   0.0|[32.0,0.0,39.2,74...|\n",
            "+----+------+----+----+----+----+----+-----+----+-----+----+----+------+--------------------+\n",
            "only showing top 5 rows\n",
            "\n"
          ]
        }
      ]
    },
    {
      "cell_type": "markdown",
      "source": [
        "# Train,Test Split"
      ],
      "metadata": {
        "id": "pc_3XJmupvya"
      }
    },
    {
      "cell_type": "code",
      "source": [
        "train_df,test_df = vec_df.randomSplit([0.7,0.3])"
      ],
      "metadata": {
        "id": "TKmY2UEHptrU"
      },
      "execution_count": 42,
      "outputs": []
    },
    {
      "cell_type": "code",
      "source": [
        "train_df.count()"
      ],
      "metadata": {
        "colab": {
          "base_uri": "https://localhost:8080/"
        },
        "id": "a4fDYeIBpy5t",
        "outputId": "98ab7073-6a4b-4dfe-b0e1-e8b88a6eabe9"
      },
      "execution_count": 43,
      "outputs": [
        {
          "output_type": "execute_result",
          "data": {
            "text/plain": [
              "443"
            ]
          },
          "metadata": {},
          "execution_count": 43
        }
      ]
    },
    {
      "cell_type": "code",
      "source": [
        "train_df.show(4)"
      ],
      "metadata": {
        "colab": {
          "base_uri": "https://localhost:8080/"
        },
        "id": "dSCMffOvp0Zu",
        "outputId": "be8cf33c-9965-4aaf-c0c5-e6b8a060e803"
      },
      "execution_count": 44,
      "outputs": [
        {
          "output_type": "stream",
          "name": "stdout",
          "text": [
            "+----+------+----+----+----+----+----+-----+----+-----+----+----+------+--------------------+\n",
            "| Age|Gender| ALB| ALP| ALT| AST| BIL|  CHE|CHOL| CREA| GGT|PROT|Target|            features|\n",
            "+----+------+----+----+----+----+----+-----+----+-----+----+----+------+--------------------+\n",
            "|32.0|   0.0|38.5|52.5| 7.7|22.1| 7.5| 6.93|3.23|106.0|12.1|69.0|   0.0|[32.0,0.0,38.5,52...|\n",
            "|32.0|   0.0|38.5|70.3|18.0|24.7| 3.9|11.17| 4.8| 74.0|15.6|76.5|   0.0|[32.0,0.0,38.5,70...|\n",
            "|32.0|   0.0|39.2|74.1|32.6|24.8| 9.6| 9.15|4.32| 76.0|29.9|68.7|   0.0|[32.0,0.0,39.2,74...|\n",
            "|32.0|   0.0|41.6|43.3|18.5|19.7|12.3| 9.92|6.05|111.0|91.0|74.0|   0.0|[32.0,0.0,41.6,43...|\n",
            "+----+------+----+----+----+----+----+-----+----+-----+----+----+------+--------------------+\n",
            "only showing top 4 rows\n",
            "\n"
          ]
        }
      ]
    },
    {
      "cell_type": "code",
      "source": [
        "#### Model Building\n",
        "#   + Pyspark.ml: DataFrame\n",
        "#   + Pyspark.mllib: RDD /Legacy\n",
        "from pyspark.ml.classification import LogisticRegression,DecisionTreeClassifier"
      ],
      "metadata": {
        "id": "hlnp01Spp3Cf"
      },
      "execution_count": 45,
      "outputs": []
    },
    {
      "cell_type": "code",
      "source": [
        "# Logist Model\n",
        "lr = LogisticRegression(featuresCol='features',labelCol='Target')"
      ],
      "metadata": {
        "id": "m8ISPqT1qAX9"
      },
      "execution_count": 46,
      "outputs": []
    },
    {
      "cell_type": "code",
      "source": [
        "lr_model = lr.fit(train_df)"
      ],
      "metadata": {
        "id": "LVXtBQ7MqCXx"
      },
      "execution_count": 47,
      "outputs": []
    },
    {
      "cell_type": "code",
      "source": [
        "y_pred = lr_model.transform(test_df)"
      ],
      "metadata": {
        "id": "SCyYY1jvqDfX"
      },
      "execution_count": 48,
      "outputs": []
    },
    {
      "cell_type": "code",
      "source": [
        "y_pred.show()"
      ],
      "metadata": {
        "colab": {
          "base_uri": "https://localhost:8080/"
        },
        "id": "zG2GOCGWqE54",
        "outputId": "7d1a0c0b-8816-4936-8a5c-ac121b68c708"
      },
      "execution_count": 49,
      "outputs": [
        {
          "output_type": "stream",
          "name": "stdout",
          "text": [
            "+----+------+----+-----+----+----+----+-----+----+-----+----+----+------+--------------------+--------------------+--------------------+----------+\n",
            "| Age|Gender| ALB|  ALP| ALT| AST| BIL|  CHE|CHOL| CREA| GGT|PROT|Target|            features|       rawPrediction|         probability|prediction|\n",
            "+----+------+----+-----+----+----+----+-----+----+-----+----+----+------+--------------------+--------------------+--------------------+----------+\n",
            "|32.0|   0.0|42.4| 86.3|20.3|20.0|35.2| 5.46|4.45| 81.0|15.9|69.9|   0.0|[32.0,0.0,42.4,86...|[106.596292694772...|[1.0,4.7349204297...|       0.0|\n",
            "|32.0|   0.0|46.3| 41.3|17.5|17.8| 8.5| 7.01|4.79| 70.0|16.9|74.5|   0.0|[32.0,0.0,46.3,41...|[118.751609248893...|[1.0,9.6441141996...|       0.0|\n",
            "|32.0|   0.0|46.9| 74.7|36.2|52.6| 6.1| 8.84| 5.2| 86.0|33.2|79.3|   0.0|[32.0,0.0,46.9,74...|[114.464116416969...|[1.0,5.2614827199...|       0.0|\n",
            "|32.0|   0.0|50.9| 65.5|23.2|21.2| 6.9| 8.69| 4.1| 83.0|13.7|71.3|   0.0|[32.0,0.0,50.9,65...|[130.869032672338...|[1.0,2.2801564386...|       0.0|\n",
            "|33.0|   0.0|36.3| 78.6|23.6|22.0| 7.0| 8.56|5.38| 78.0|19.4|68.7|   0.0|[33.0,0.0,36.3,78...|[125.274961839610...|[1.0,1.7839731712...|       0.0|\n",
            "|33.0|   0.0|40.9| 73.0|17.2|22.9|10.0| 6.98|5.22| 90.0|14.7|72.4|   0.0|[33.0,0.0,40.9,73...|[118.666971508105...|[1.0,1.8098327428...|       0.0|\n",
            "|33.0|   0.0|42.0| 63.1|32.6|34.9|11.2| 7.01|4.05|105.0|19.1|68.1|   0.0|[33.0,0.0,42.0,63...|[119.632442859431...|[1.0,7.2327145925...|       0.0|\n",
            "|33.0|   0.0|45.2| 88.3|32.4|31.2|10.1| 9.78|5.51|102.0|48.5|76.5|   0.0|[33.0,0.0,45.2,88...|[110.647052607292...|[1.0,3.1568860551...|       0.0|\n",
            "|33.0|   0.0|46.7| 88.3|23.4|23.9| 7.8| 9.42|4.62| 78.0|29.5|74.3|   0.0|[33.0,0.0,46.7,88...|[123.834079694106...|[1.0,8.7674480953...|       0.0|\n",
            "|34.0|   0.0|29.0| 41.6|29.1|16.1| 4.8| 6.82|4.03| 62.0|14.5|53.2|   0.0|[34.0,0.0,29.0,41...|[139.737356175563...|[1.0,2.3541956704...|       0.0|\n",
            "|34.0|   0.0|41.8| 75.8|30.9|35.5| 6.1| 9.97|5.94| 89.0|48.5|71.3|   0.0|[34.0,0.0,41.8,75...|[117.979089630423...|[1.0,5.1032488605...|       0.0|\n",
            "|34.0|   0.0|42.6| 27.0|21.4|21.7| 7.2| 8.15|6.79| 85.0|13.9|67.7|   0.0|[34.0,0.0,42.6,27...|[123.295851259018...|[1.0,5.4421734889...|       0.0|\n",
            "|34.0|   0.0|44.6| 84.1|19.6|29.8| 5.8|  7.6|5.07| 95.0| 9.9|71.9|   0.0|[34.0,0.0,44.6,84...|[127.526787024773...|[1.0,2.5057898698...|       0.0|\n",
            "|35.0|   0.0|27.8| 99.0|30.7|27.8| 9.4|  6.8|4.27| 65.0|40.5|80.7|   0.0|[35.0,0.0,27.8,99...|[100.417738174165...|[1.0,2.0519731940...|       0.0|\n",
            "|35.0|   0.0|41.5|115.1|24.1|30.4| 5.7| 9.41|4.33| 81.0|22.2|71.3|   0.0|[35.0,0.0,41.5,11...|[130.604891847679...|[1.0,2.0293285532...|       0.0|\n",
            "|35.0|   0.0|42.1| 68.3|37.2|56.2|11.1|  9.3|4.63| 99.0|16.8|73.6|   0.0|[35.0,0.0,42.1,68...|[114.313180284250...|[1.0,5.1798640936...|       0.0|\n",
            "|35.0|   0.0|44.5| 70.3|26.2|25.1| 5.1|10.12|4.69| 82.0|20.7|67.2|   0.0|[35.0,0.0,44.5,70...|[132.373108125691...|[1.0,1.9620809520...|       0.0|\n",
            "|35.0|   0.0|47.3| 92.2|30.7|25.7| 6.6|11.58| 5.9| 82.0|36.9|77.8|   0.0|[35.0,0.0,47.3,92...|[120.192194480304...|[1.0,8.2790640424...|       0.0|\n",
            "|35.0|   0.0|47.4| 54.5|18.6|21.6|10.3|  8.1|6.23| 66.0|28.1|74.0|   0.0|[35.0,0.0,47.4,54...|[119.588339607205...|[1.0,2.8842724103...|       0.0|\n",
            "|35.0|   0.0|48.7| 72.7|24.1|31.0|45.1|  9.4| 3.8| 90.0|20.0|75.8|   0.0|[35.0,0.0,48.7,72...|[90.0288117432151...|[0.99995205772647...|       0.0|\n",
            "+----+------+----+-----+----+----+----+-----+----+-----+----+----+------+--------------------+--------------------+--------------------+----------+\n",
            "only showing top 20 rows\n",
            "\n"
          ]
        }
      ]
    },
    {
      "cell_type": "code",
      "source": [
        "y_pred.select('target','rawPrediction', 'probability', 'prediction').show()"
      ],
      "metadata": {
        "colab": {
          "base_uri": "https://localhost:8080/"
        },
        "id": "DFfypVFiqGi_",
        "outputId": "e995b494-8ac5-49a9-865f-e96458c54173"
      },
      "execution_count": 50,
      "outputs": [
        {
          "output_type": "stream",
          "name": "stdout",
          "text": [
            "+------+--------------------+--------------------+----------+\n",
            "|target|       rawPrediction|         probability|prediction|\n",
            "+------+--------------------+--------------------+----------+\n",
            "|   0.0|[106.596292694772...|[1.0,4.7349204297...|       0.0|\n",
            "|   0.0|[118.751609248893...|[1.0,9.6441141996...|       0.0|\n",
            "|   0.0|[114.464116416969...|[1.0,5.2614827199...|       0.0|\n",
            "|   0.0|[130.869032672338...|[1.0,2.2801564386...|       0.0|\n",
            "|   0.0|[125.274961839610...|[1.0,1.7839731712...|       0.0|\n",
            "|   0.0|[118.666971508105...|[1.0,1.8098327428...|       0.0|\n",
            "|   0.0|[119.632442859431...|[1.0,7.2327145925...|       0.0|\n",
            "|   0.0|[110.647052607292...|[1.0,3.1568860551...|       0.0|\n",
            "|   0.0|[123.834079694106...|[1.0,8.7674480953...|       0.0|\n",
            "|   0.0|[139.737356175563...|[1.0,2.3541956704...|       0.0|\n",
            "|   0.0|[117.979089630423...|[1.0,5.1032488605...|       0.0|\n",
            "|   0.0|[123.295851259018...|[1.0,5.4421734889...|       0.0|\n",
            "|   0.0|[127.526787024773...|[1.0,2.5057898698...|       0.0|\n",
            "|   0.0|[100.417738174165...|[1.0,2.0519731940...|       0.0|\n",
            "|   0.0|[130.604891847679...|[1.0,2.0293285532...|       0.0|\n",
            "|   0.0|[114.313180284250...|[1.0,5.1798640936...|       0.0|\n",
            "|   0.0|[132.373108125691...|[1.0,1.9620809520...|       0.0|\n",
            "|   0.0|[120.192194480304...|[1.0,8.2790640424...|       0.0|\n",
            "|   0.0|[119.588339607205...|[1.0,2.8842724103...|       0.0|\n",
            "|   0.0|[90.0288117432151...|[0.99995205772647...|       0.0|\n",
            "+------+--------------------+--------------------+----------+\n",
            "only showing top 20 rows\n",
            "\n"
          ]
        }
      ]
    },
    {
      "cell_type": "markdown",
      "source": [
        "#Model Evaluation"
      ],
      "metadata": {
        "id": "v6ayOQUAqO2I"
      }
    },
    {
      "cell_type": "code",
      "source": [
        "from pyspark.ml.evaluation import MulticlassClassificationEvaluator"
      ],
      "metadata": {
        "id": "iLAPwNpiqLOt"
      },
      "execution_count": 51,
      "outputs": []
    },
    {
      "cell_type": "code",
      "source": [
        "# Checking For Accuracy\n",
        "multi_evaluator = MulticlassClassificationEvaluator(labelCol='Target',metricName='accuracy')"
      ],
      "metadata": {
        "id": "ABraYFwqqR-a"
      },
      "execution_count": 52,
      "outputs": []
    },
    {
      "cell_type": "code",
      "source": [
        "multi_evaluator.evaluate(y_pred)"
      ],
      "metadata": {
        "colab": {
          "base_uri": "https://localhost:8080/"
        },
        "id": "XjFSMYWdqTkZ",
        "outputId": "d3c0c99c-3039-4606-89bf-8a5f2d58c7de"
      },
      "execution_count": 53,
      "outputs": [
        {
          "output_type": "execute_result",
          "data": {
            "text/plain": [
              "0.9418604651162791"
            ]
          },
          "metadata": {},
          "execution_count": 53
        }
      ]
    },
    {
      "cell_type": "markdown",
      "source": [
        "# Precision,F1 Score,Recall : Classification Report"
      ],
      "metadata": {
        "id": "TQqJw0NRqj2d"
      }
    },
    {
      "cell_type": "code",
      "source": [
        "from pyspark.mllib.evaluation import MulticlassMetrics"
      ],
      "metadata": {
        "id": "P8rSUs_nqdMJ"
      },
      "execution_count": 54,
      "outputs": []
    },
    {
      "cell_type": "code",
      "source": [
        "lr_metric = MulticlassMetrics(y_pred['target', 'prediction'].rdd)"
      ],
      "metadata": {
        "colab": {
          "base_uri": "https://localhost:8080/"
        },
        "id": "aDEaWMzWqlEo",
        "outputId": "f91b4ca7-c52a-402e-dd11-02295059f894"
      },
      "execution_count": 55,
      "outputs": [
        {
          "output_type": "stream",
          "name": "stderr",
          "text": [
            "/usr/local/lib/python3.8/dist-packages/pyspark/sql/context.py:157: FutureWarning: Deprecated in 3.0.0. Use SparkSession.builder.getOrCreate() instead.\n",
            "  warnings.warn(\n"
          ]
        }
      ]
    },
    {
      "cell_type": "code",
      "source": [
        "dir(lr_metric)"
      ],
      "metadata": {
        "colab": {
          "base_uri": "https://localhost:8080/"
        },
        "id": "nT_1_RqOqmQI",
        "outputId": "9ba537f5-365b-4550-f387-e21131fd65a8"
      },
      "execution_count": 56,
      "outputs": [
        {
          "output_type": "execute_result",
          "data": {
            "text/plain": [
              "['__class__',\n",
              " '__del__',\n",
              " '__delattr__',\n",
              " '__dict__',\n",
              " '__dir__',\n",
              " '__doc__',\n",
              " '__eq__',\n",
              " '__format__',\n",
              " '__ge__',\n",
              " '__getattribute__',\n",
              " '__gt__',\n",
              " '__hash__',\n",
              " '__init__',\n",
              " '__init_subclass__',\n",
              " '__le__',\n",
              " '__lt__',\n",
              " '__module__',\n",
              " '__ne__',\n",
              " '__new__',\n",
              " '__reduce__',\n",
              " '__reduce_ex__',\n",
              " '__repr__',\n",
              " '__setattr__',\n",
              " '__sizeof__',\n",
              " '__str__',\n",
              " '__subclasshook__',\n",
              " '__weakref__',\n",
              " '_java_model',\n",
              " '_sc',\n",
              " 'accuracy',\n",
              " 'call',\n",
              " 'confusionMatrix',\n",
              " 'fMeasure',\n",
              " 'falsePositiveRate',\n",
              " 'logLoss',\n",
              " 'precision',\n",
              " 'recall',\n",
              " 'truePositiveRate',\n",
              " 'weightedFMeasure',\n",
              " 'weightedFalsePositiveRate',\n",
              " 'weightedPrecision',\n",
              " 'weightedRecall',\n",
              " 'weightedTruePositiveRate']"
            ]
          },
          "metadata": {},
          "execution_count": 56
        }
      ]
    },
    {
      "cell_type": "code",
      "source": [
        "print(\"Accuracy\",lr_metric.accuracy)"
      ],
      "metadata": {
        "colab": {
          "base_uri": "https://localhost:8080/"
        },
        "id": "YEozimIUqn7s",
        "outputId": "da4d74a4-a79d-4b7e-8663-76eb7f439df5"
      },
      "execution_count": 57,
      "outputs": [
        {
          "output_type": "stream",
          "name": "stdout",
          "text": [
            "Accuracy 0.9418604651162791\n"
          ]
        }
      ]
    },
    {
      "cell_type": "code",
      "source": [
        "print(\"Precision\",lr_metric.precision(1.0))\n",
        "print(\"Recall\",lr_metric.recall(1.0))\n",
        "print(\"F1Score\",lr_metric.fMeasure(1.0))"
      ],
      "metadata": {
        "colab": {
          "base_uri": "https://localhost:8080/"
        },
        "id": "lGdj8i1Gqpmw",
        "outputId": "45bda5b1-d750-41e0-b7dd-e6672800e88a"
      },
      "execution_count": 58,
      "outputs": [
        {
          "output_type": "stream",
          "name": "stdout",
          "text": [
            "Precision 1.0\n",
            "Recall 0.8888888888888888\n",
            "F1Score 0.9411764705882353\n"
          ]
        }
      ]
    },
    {
      "cell_type": "code",
      "source": [
        "\n",
        "# Saving Model\n",
        "lr_model.save(\"lr_model_30\")\n",
        "\n",
        "lr_model.write().save(\"mylr_model\")"
      ],
      "metadata": {
        "id": "qxhW6zJfqrej"
      },
      "execution_count": null,
      "outputs": []
    }
  ]
}