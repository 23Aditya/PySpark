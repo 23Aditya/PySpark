{
  "nbformat": 4,
  "nbformat_minor": 0,
  "metadata": {
    "colab": {
      "provenance": [],
      "authorship_tag": "ABX9TyNd23xkybqucMXDDCCasai/",
      "include_colab_link": true
    },
    "kernelspec": {
      "name": "python3",
      "display_name": "Python 3"
    },
    "language_info": {
      "name": "python"
    }
  },
  "cells": [
    {
      "cell_type": "markdown",
      "metadata": {
        "id": "view-in-github",
        "colab_type": "text"
      },
      "source": [
        "<a href=\"https://colab.research.google.com/github/23Aditya/PySpark/blob/main/PySpark_basic.ipynb\" target=\"_parent\"><img src=\"https://colab.research.google.com/assets/colab-badge.svg\" alt=\"Open In Colab\"/></a>"
      ]
    },
    {
      "cell_type": "code",
      "source": [
        "!pip install pyspark"
      ],
      "metadata": {
        "colab": {
          "base_uri": "https://localhost:8080/"
        },
        "id": "uElAF4UwPWUa",
        "outputId": "3d53e6ed-aa23-41a1-9765-04d1c0a8c36d"
      },
      "execution_count": null,
      "outputs": [
        {
          "output_type": "stream",
          "name": "stdout",
          "text": [
            "Looking in indexes: https://pypi.org/simple, https://us-python.pkg.dev/colab-wheels/public/simple/\n",
            "Collecting pyspark\n",
            "  Downloading pyspark-3.4.0.tar.gz (310.8 MB)\n",
            "\u001b[2K     \u001b[90m━━━━━━━━━━━━━━━━━━━━━━━━━━━━━━━━━━━━━━━\u001b[0m \u001b[32m310.8/310.8 MB\u001b[0m \u001b[31m2.5 MB/s\u001b[0m eta \u001b[36m0:00:00\u001b[0m\n",
            "\u001b[?25h  Preparing metadata (setup.py) ... \u001b[?25l\u001b[?25hdone\n",
            "Requirement already satisfied: py4j==0.10.9.7 in /usr/local/lib/python3.10/dist-packages (from pyspark) (0.10.9.7)\n",
            "Building wheels for collected packages: pyspark\n",
            "  Building wheel for pyspark (setup.py) ... \u001b[?25l\u001b[?25hdone\n",
            "  Created wheel for pyspark: filename=pyspark-3.4.0-py2.py3-none-any.whl size=311317130 sha256=b7e9170696f23e00f56d8c0e4c5d53e101e822c84f851078426b2bd11eea4503\n",
            "  Stored in directory: /root/.cache/pip/wheels/7b/1b/4b/3363a1d04368e7ff0d408e57ff57966fcdf00583774e761327\n",
            "Successfully built pyspark\n",
            "Installing collected packages: pyspark\n",
            "Successfully installed pyspark-3.4.0\n"
          ]
        }
      ]
    },
    {
      "cell_type": "code",
      "source": [
        "# While working with spark we have to first creat a SparkSession...\n",
        "from pyspark.sql import SparkSession\n",
        "import pandas as pd"
      ],
      "metadata": {
        "id": "9wP0_QmQPUCx"
      },
      "execution_count": null,
      "outputs": []
    },
    {
      "cell_type": "code",
      "source": [
        "# spark=(SparkSession.builder.appName('Dataframes').getOrCreate())\n",
        "spark = SparkSession.builder.appName(\"Sample_pyspark\").getOrCreate()"
      ],
      "metadata": {
        "id": "fGaOdwEJPdrq"
      },
      "execution_count": null,
      "outputs": []
    },
    {
      "cell_type": "code",
      "source": [
        "spark"
      ],
      "metadata": {
        "colab": {
          "base_uri": "https://localhost:8080/",
          "height": 219
        },
        "id": "vDXy-RKDPgYZ",
        "outputId": "c7d32307-2252-49e7-ace6-f82bd665251c"
      },
      "execution_count": null,
      "outputs": [
        {
          "output_type": "execute_result",
          "data": {
            "text/plain": [
              "<pyspark.sql.session.SparkSession at 0x7f626e84b4f0>"
            ],
            "text/html": [
              "\n",
              "            <div>\n",
              "                <p><b>SparkSession - in-memory</b></p>\n",
              "                \n",
              "        <div>\n",
              "            <p><b>SparkContext</b></p>\n",
              "\n",
              "            <p><a href=\"http://95c68d4a77df:4040\">Spark UI</a></p>\n",
              "\n",
              "            <dl>\n",
              "              <dt>Version</dt>\n",
              "                <dd><code>v3.4.0</code></dd>\n",
              "              <dt>Master</dt>\n",
              "                <dd><code>local[*]</code></dd>\n",
              "              <dt>AppName</dt>\n",
              "                <dd><code>Sample_pyspark</code></dd>\n",
              "            </dl>\n",
              "        </div>\n",
              "        \n",
              "            </div>\n",
              "        "
            ]
          },
          "metadata": {},
          "execution_count": 12
        }
      ]
    },
    {
      "cell_type": "markdown",
      "source": [
        "## Create a DataFrame with Python\n"
      ],
      "metadata": {
        "id": "nYj_KS-FS4qB"
      }
    },
    {
      "cell_type": "code",
      "source": [
        "data = [[1, \"Elia\"], [2, \"Teo\"], [3, \"Fang\"]]\n",
        "\n",
        "pdf = pd.DataFrame(data, columns=[\"id\", \"name\"])\n",
        "\n",
        "df1 = spark.createDataFrame(pdf)\n",
        "df2 = spark.createDataFrame(data, schema=\"id INT, name STRING\")"
      ],
      "metadata": {
        "id": "2EgTn4L0Oh5y"
      },
      "execution_count": null,
      "outputs": []
    },
    {
      "cell_type": "code",
      "source": [
        "df1.show()"
      ],
      "metadata": {
        "colab": {
          "base_uri": "https://localhost:8080/"
        },
        "id": "mF3_SnZ5rXl4",
        "outputId": "abe2b1d0-e1ff-4ece-856c-2ae0d1163b9f"
      },
      "execution_count": null,
      "outputs": [
        {
          "output_type": "stream",
          "name": "stdout",
          "text": [
            "+---+----+\n",
            "| id|name|\n",
            "+---+----+\n",
            "|  1|Elia|\n",
            "|  2| Teo|\n",
            "|  3|Fang|\n",
            "+---+----+\n",
            "\n"
          ]
        }
      ]
    },
    {
      "cell_type": "code",
      "source": [
        "df2.show()"
      ],
      "metadata": {
        "colab": {
          "base_uri": "https://localhost:8080/"
        },
        "id": "LR8mKMaDra-Z",
        "outputId": "442ba13f-63dc-45c7-c562-9e909d1a1368"
      },
      "execution_count": null,
      "outputs": [
        {
          "output_type": "stream",
          "name": "stdout",
          "text": [
            "+---+----+\n",
            "| id|name|\n",
            "+---+----+\n",
            "|  1|Elia|\n",
            "|  2| Teo|\n",
            "|  3|Fang|\n",
            "+---+----+\n",
            "\n"
          ]
        }
      ]
    },
    {
      "cell_type": "markdown",
      "source": [
        "## Load data into a DataFrame from files\n"
      ],
      "metadata": {
        "id": "dzxLxFRHTQGq"
      }
    },
    {
      "cell_type": "code",
      "source": [
        "# df = (spark.read\n",
        "#   .format(\"csv\")\n",
        "#   .option(\"header\", \"true\")\n",
        "#   .option(\"inferSchema\", \"true\")\n",
        "#   .load(\"/content/hcvdat0.csv\")\n",
        "# )"
      ],
      "metadata": {
        "id": "r4biIFwkTIEL"
      },
      "execution_count": null,
      "outputs": []
    },
    {
      "cell_type": "code",
      "source": [
        "joined_df = df1.join(df2, how=\"inner\", on=\"id\")"
      ],
      "metadata": {
        "id": "COkEg1QorFXw"
      },
      "execution_count": null,
      "outputs": []
    },
    {
      "cell_type": "code",
      "source": [
        "joined_df.show()"
      ],
      "metadata": {
        "colab": {
          "base_uri": "https://localhost:8080/"
        },
        "id": "uCjV3L72rQf5",
        "outputId": "7817db50-1038-488c-809f-7b9ebbff588f"
      },
      "execution_count": null,
      "outputs": [
        {
          "output_type": "stream",
          "name": "stdout",
          "text": [
            "+---+----+----+\n",
            "| id|name|name|\n",
            "+---+----+----+\n",
            "|  1|Elia|Elia|\n",
            "|  2| Teo| Teo|\n",
            "|  3|Fang|Fang|\n",
            "+---+----+----+\n",
            "\n"
          ]
        }
      ]
    },
    {
      "cell_type": "code",
      "source": [
        "unioned_df = df1.union(df2)"
      ],
      "metadata": {
        "id": "DRzvqcRNrs_J"
      },
      "execution_count": null,
      "outputs": []
    },
    {
      "cell_type": "code",
      "source": [
        "unioned_df.show()"
      ],
      "metadata": {
        "colab": {
          "base_uri": "https://localhost:8080/"
        },
        "id": "MfpoBeGQsApb",
        "outputId": "f55866db-45de-4c01-eb3c-87877e7cfbb1"
      },
      "execution_count": null,
      "outputs": [
        {
          "output_type": "stream",
          "name": "stdout",
          "text": [
            "+---+----+\n",
            "| id|name|\n",
            "+---+----+\n",
            "|  1|Elia|\n",
            "|  2| Teo|\n",
            "|  3|Fang|\n",
            "|  1|Elia|\n",
            "|  2| Teo|\n",
            "|  3|Fang|\n",
            "+---+----+\n",
            "\n"
          ]
        }
      ]
    },
    {
      "cell_type": "markdown",
      "source": [
        "## Filter rows in a DataFrame"
      ],
      "metadata": {
        "id": "Hvwv7vq4stA9"
      }
    },
    {
      "cell_type": "code",
      "source": [
        "filtered_df = joined_df.filter(\"id > 0\")\n",
        "filtered_df.show()\n",
        "filtered_df = joined_df.where(\"id > 1\")\n",
        "filtered_df.show()"
      ],
      "metadata": {
        "colab": {
          "base_uri": "https://localhost:8080/"
        },
        "id": "vyMz0IfBsClm",
        "outputId": "cc1de816-7069-424d-ec9c-162a97cd0e30"
      },
      "execution_count": null,
      "outputs": [
        {
          "output_type": "stream",
          "name": "stdout",
          "text": [
            "+---+----+----+\n",
            "| id|name|name|\n",
            "+---+----+----+\n",
            "|  1|Elia|Elia|\n",
            "|  2| Teo| Teo|\n",
            "|  3|Fang|Fang|\n",
            "+---+----+----+\n",
            "\n",
            "+---+----+----+\n",
            "| id|name|name|\n",
            "+---+----+----+\n",
            "|  2| Teo| Teo|\n",
            "|  3|Fang|Fang|\n",
            "+---+----+----+\n",
            "\n"
          ]
        }
      ]
    },
    {
      "cell_type": "markdown",
      "source": [
        "## Select columns from a DataFrame"
      ],
      "metadata": {
        "id": "inqDmGWWtKr2"
      }
    },
    {
      "cell_type": "code",
      "source": [
        "select_df = df1.select(\"id\", \"name\")\n",
        "# subset_df = joined_df.filter(\"id > 1\").select('name')"
      ],
      "metadata": {
        "id": "6TLjWzxIs358"
      },
      "execution_count": null,
      "outputs": []
    },
    {
      "cell_type": "code",
      "source": [
        "select_df.show()"
      ],
      "metadata": {
        "colab": {
          "base_uri": "https://localhost:8080/"
        },
        "id": "N8iH9TFbvsez",
        "outputId": "ecfc3e26-f160-4492-f723-60de7a533b08"
      },
      "execution_count": null,
      "outputs": [
        {
          "output_type": "stream",
          "name": "stdout",
          "text": [
            "+---+----+\n",
            "| id|name|\n",
            "+---+----+\n",
            "|  1|Elia|\n",
            "|  2| Teo|\n",
            "|  3|Fang|\n",
            "+---+----+\n",
            "\n"
          ]
        }
      ]
    },
    {
      "cell_type": "code",
      "source": [
        "display(df1)"
      ],
      "metadata": {
        "colab": {
          "base_uri": "https://localhost:8080/",
          "height": 34
        },
        "id": "hWnEfOlLtO22",
        "outputId": "8f64382b-a039-47bd-9e44-4e9612ab797b"
      },
      "execution_count": null,
      "outputs": [
        {
          "output_type": "display_data",
          "data": {
            "text/plain": [
              "DataFrame[id: bigint, name: string]"
            ]
          },
          "metadata": {}
        }
      ]
    },
    {
      "cell_type": "code",
      "source": [
        "df1.printSchema()"
      ],
      "metadata": {
        "colab": {
          "base_uri": "https://localhost:8080/"
        },
        "id": "k4pZotjmu0px",
        "outputId": "1f4e9e82-63da-4c99-c158-2905737fe1eb"
      },
      "execution_count": null,
      "outputs": [
        {
          "output_type": "stream",
          "name": "stdout",
          "text": [
            "root\n",
            " |-- id: long (nullable = true)\n",
            " |-- name: string (nullable = true)\n",
            "\n"
          ]
        }
      ]
    },
    {
      "cell_type": "code",
      "source": [
        "# df1.write.saveAsTable(\"<table-name>\")"
      ],
      "metadata": {
        "id": "pK7R0i10u9wJ"
      },
      "execution_count": null,
      "outputs": []
    },
    {
      "cell_type": "markdown",
      "source": [
        "## Run SQL queries in PySpark"
      ],
      "metadata": {
        "id": "mUpqH6BFKE2N"
      }
    },
    {
      "cell_type": "code",
      "source": [
        "from pyspark.sql.functions import expr"
      ],
      "metadata": {
        "id": "ianmtQ95CWMG"
      },
      "execution_count": null,
      "outputs": []
    },
    {
      "cell_type": "code",
      "source": [
        "df1 = display(df1.selectExpr(\"id\", \"upper(name) as big_name\"))"
      ],
      "metadata": {
        "colab": {
          "base_uri": "https://localhost:8080/",
          "height": 34
        },
        "id": "Qb2QBkI-JaKt",
        "outputId": "3b6b73ae-2d3b-490d-acd0-f17aec35c196"
      },
      "execution_count": null,
      "outputs": [
        {
          "output_type": "display_data",
          "data": {
            "text/plain": [
              "DataFrame[id: bigint, big_name: string]"
            ]
          },
          "metadata": {}
        }
      ]
    },
    {
      "cell_type": "code",
      "source": [
        "# df1 = display(df1.selectExpr(\"id\", \"lower(name) as little_name\"))"
      ],
      "metadata": {
        "id": "91savgJVLdjW"
      },
      "execution_count": null,
      "outputs": []
    },
    {
      "cell_type": "code",
      "source": [],
      "metadata": {
        "id": "Fk5YBG_G-KIH"
      },
      "execution_count": null,
      "outputs": []
    }
  ]
}